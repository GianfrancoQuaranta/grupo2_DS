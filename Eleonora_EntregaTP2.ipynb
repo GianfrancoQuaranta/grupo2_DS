{
 "cells": [
  {
   "cell_type": "code",
   "execution_count": 1,
   "metadata": {},
   "outputs": [],
   "source": [
    "import pandas as pd\n",
    "import seaborn as sns\n",
    "import geopandas as gpd\n",
    "import matplotlib.pyplot as plt\n",
    "import descartes\n",
    "import pyproj\n",
    "import shapely.wkt\n",
    "import numpy as np"
   ]
  },
  {
   "cell_type": "code",
   "execution_count": 2,
   "metadata": {},
   "outputs": [],
   "source": [
    "data=pd.read_csv('./properatti.csv')"
   ]
  },
  {
   "cell_type": "code",
   "execution_count": 3,
   "metadata": {},
   "outputs": [],
   "source": [
    "barrios = pd.read_csv(\"./barrios.csv\", encoding='latin1')"
   ]
  },
  {
   "cell_type": "code",
   "execution_count": 4,
   "metadata": {},
   "outputs": [],
   "source": [
    "barrios[\"WKT\"] = barrios[\"WKT\"].apply(shapely.wkt.loads) \n",
    "geo_barrios = gpd.GeoDataFrame(barrios, geometry='WKT')"
   ]
  },
  {
   "cell_type": "code",
   "execution_count": 5,
   "metadata": {},
   "outputs": [
    {
     "data": {
      "text/plain": [
       "0    2 AMBIENTES TIPO CASA PLANTA BAJA POR PASILLO,...\n",
       "1    VENTA DE DEPARTAMENTO EN DÉCIMO PISO AL FRENTE...\n",
       "2    2 AMBIENTES 3ER PISO LATERAL LIVING COMEDOR AM...\n",
       "3    PH 3 AMBIENTES CON PATIO HAY 3 DEPTOS EN LOTE,...\n",
       "4    DEPARTAMENTO CON FANTÁSTICA ILUMINACIÓN NATURA...\n",
       "Name: description, dtype: object"
      ]
     },
     "execution_count": 5,
     "metadata": {},
     "output_type": "execute_result"
    }
   ],
   "source": [
    "auxData = data['description']\n",
    "auxData = auxData.str.upper()\n",
    "auxData = auxData.str.replace('.','', regex=True)\n",
    "auxData.fillna('', inplace = True)\n",
    "auxData.head()"
   ]
  },
  {
   "cell_type": "code",
   "execution_count": 6,
   "metadata": {},
   "outputs": [
    {
     "data": {
      "text/plain": [
       "<bound method NDFrame.head of         USD  price\n",
       "0       NaN    NaN\n",
       "1       U$D  20000\n",
       "2       NaN    NaN\n",
       "3       NaN    NaN\n",
       "4       NaN    NaN\n",
       "...     ...    ...\n",
       "121215  NaN    NaN\n",
       "121216  NaN    NaN\n",
       "121217  USD  20000\n",
       "121218  U$S  95900\n",
       "121219  NaN    NaN\n",
       "\n",
       "[121220 rows x 2 columns]>"
      ]
     },
     "execution_count": 6,
     "metadata": {},
     "output_type": "execute_result"
    }
   ],
   "source": [
    "auxData2 = auxData.str.extract('(USD|USS|US|U[$]D|U[$][$]|U[$]S)\\s?(\\d+)')\n",
    "auxData2.columns=['USD', 'price']\n",
    "auxData2.head"
   ]
  },
  {
   "cell_type": "code",
   "execution_count": 7,
   "metadata": {},
   "outputs": [
    {
     "data": {
      "text/plain": [
       "13039"
      ]
     },
     "execution_count": 7,
     "metadata": {},
     "output_type": "execute_result"
    }
   ],
   "source": [
    "auxData2.price.notnull().sum()"
   ]
  },
  {
   "cell_type": "code",
   "execution_count": 8,
   "metadata": {},
   "outputs": [],
   "source": [
    "auxData2.price = pd.to_numeric(auxData2['price'])\n",
    "data['price_aprox_usd'] = data['price_aprox_usd'].fillna(auxData2['price'])"
   ]
  },
  {
   "cell_type": "code",
   "execution_count": 9,
   "metadata": {},
   "outputs": [],
   "source": [
    "auxData3 = data['title']\n",
    "auxData3 = auxData3.str.upper()\n",
    "auxData3 = auxData3.str.replace('.', '', regex=True)\n",
    "auxData3.fillna('', inplace=True)"
   ]
  },
  {
   "cell_type": "code",
   "execution_count": 10,
   "metadata": {},
   "outputs": [],
   "source": [
    "auxData4 = auxData3.str.extract('(USD|USS|US|U[$]D|U[$][$]|U[$]S)\\s?(\\d+)')\n",
    "auxData4.columns = ['USD', 'price']\n",
    "auxData4.price.notnull().sum()\n",
    "auxData4.price = pd.to_numeric(auxData4['price'])\n",
    "data['price_aprox_usd'] = data['price_aprox_usd'].fillna(auxData4['price'])"
   ]
  },
  {
   "cell_type": "code",
   "execution_count": 11,
   "metadata": {},
   "outputs": [],
   "source": [
    "capital_federal_completo = data.loc[data.state_name.str.contains('Capital Federal') == True]\n",
    "capital_federal = capital_federal_completo.loc[(capital_federal_completo.lat > -35) & (capital_federal_completo.lon > -60), :]\n"
   ]
  },
  {
   "cell_type": "code",
   "execution_count": 12,
   "metadata": {},
   "outputs": [],
   "source": [
    "geometria = gpd.points_from_xy(capital_federal['lon'], capital_federal['lat'])"
   ]
  },
  {
   "cell_type": "code",
   "execution_count": 13,
   "metadata": {},
   "outputs": [
    {
     "name": "stderr",
     "output_type": "stream",
     "text": [
      "c:\\Users\\anacl\\.conda\\envs\\dhdsblend2021_clase10\\lib\\site-packages\\pyproj\\crs.py:77: FutureWarning: '+init=<authority>:<code>' syntax is deprecated. '<authority>:<code>' is the preferred initialization method.\n",
      "  return _prepare_from_string(\" \".join(pjargs))\n"
     ]
    }
   ],
   "source": [
    "capital_federal_geo=gpd.GeoDataFrame(capital_federal, geometry=geometria)\n",
    "\n",
    "capital_federal_geo.crs = {'init' :'epsg:4326'}"
   ]
  },
  {
   "cell_type": "code",
   "execution_count": 14,
   "metadata": {},
   "outputs": [
    {
     "data": {
      "text/plain": [
       "<matplotlib.axes._subplots.AxesSubplot at 0x258c7a08ec8>"
      ]
     },
     "execution_count": 14,
     "metadata": {},
     "output_type": "execute_result"
    },
    {
     "data": {
      "image/png": "[encoded data removed]",
      "text/plain": [
       "<Figure size 640x480 with 1 Axes>"
      ]
     },
     "metadata": {},
     "output_type": "display_data"
    }
   ],
   "source": [
    "data_location = \"./estaciones-de-subte.csv\"\n",
    "\n",
    "df_subte = pd.read_csv(data_location, sep=',')\n",
    "\n",
    "geometria = gpd.points_from_xy(df_subte.long, df_subte.lat)\n",
    "\n",
    "geo_subte = gpd.GeoDataFrame(df_subte ,geometry=geometria)\n",
    "\n",
    "geo_subte.plot()"
   ]
  },
  {
   "cell_type": "code",
   "execution_count": 15,
   "metadata": {},
   "outputs": [],
   "source": [
    "def calculate_distance_min(p,geo_subte):\n",
    "    distances = geo_subte.distance(p.geometry)\n",
    "    return distances.min()\n"
   ]
  },
  {
   "cell_type": "code",
   "execution_count": 16,
   "metadata": {},
   "outputs": [],
   "source": [
    "capital_federal_geo['distancia_subte']= capital_federal_geo.apply(lambda x: calculate_distance_min(x, geo_subte), axis=1)"
   ]
  },
  {
   "cell_type": "code",
   "execution_count": 17,
   "metadata": {},
   "outputs": [
    {
     "data": {
      "text/html": [
       "<div>\n",
       "<style scoped>\n",
       "    .dataframe tbody tr th:only-of-type {\n",
       "        vertical-align: middle;\n",
       "    }\n",
       "\n",
       "    .dataframe tbody tr th {\n",
       "        vertical-align: top;\n",
       "    }\n",
       "\n",
       "    .dataframe thead th {\n",
       "        text-align: right;\n",
       "    }\n",
       "</style>\n",
       "<table border=\"1\" class=\"dataframe\">\n",
       "  <thead>\n",
       "    <tr style=\"text-align: right;\">\n",
       "      <th></th>\n",
       "      <th>Unnamed: 0</th>\n",
       "      <th>operation</th>\n",
       "      <th>property_type</th>\n",
       "      <th>place_name</th>\n",
       "      <th>place_with_parent_names</th>\n",
       "      <th>country_name</th>\n",
       "      <th>state_name</th>\n",
       "      <th>geonames_id</th>\n",
       "      <th>lat-lon</th>\n",
       "      <th>lat</th>\n",
       "      <th>...</th>\n",
       "      <th>price_per_m2</th>\n",
       "      <th>floor</th>\n",
       "      <th>rooms</th>\n",
       "      <th>expenses</th>\n",
       "      <th>properati_url</th>\n",
       "      <th>description</th>\n",
       "      <th>title</th>\n",
       "      <th>image_thumbnail</th>\n",
       "      <th>geometry</th>\n",
       "      <th>distancia_subte</th>\n",
       "    </tr>\n",
       "  </thead>\n",
       "  <tbody>\n",
       "    <tr>\n",
       "      <th>0</th>\n",
       "      <td>0</td>\n",
       "      <td>sell</td>\n",
       "      <td>PH</td>\n",
       "      <td>Mataderos</td>\n",
       "      <td>|Argentina|Capital Federal|Mataderos|</td>\n",
       "      <td>Argentina</td>\n",
       "      <td>Capital Federal</td>\n",
       "      <td>3430787.0</td>\n",
       "      <td>-34.6618237,-58.5088387</td>\n",
       "      <td>-34.661824</td>\n",
       "      <td>...</td>\n",
       "      <td>1550.000000</td>\n",
       "      <td>NaN</td>\n",
       "      <td>NaN</td>\n",
       "      <td>NaN</td>\n",
       "      <td>http://www.properati.com.ar/15bo8_venta_ph_mat...</td>\n",
       "      <td>2 AMBIENTES TIPO CASA PLANTA BAJA POR PASILLO,...</td>\n",
       "      <td>2 AMB TIPO CASA SIN EXPENSAS EN PB</td>\n",
       "      <td>https://thumbs4.properati.com/8/BluUYiHJLhgIIK...</td>\n",
       "      <td>POINT (-58.50884 -34.66182)</td>\n",
       "      <td>0.050048</td>\n",
       "    </tr>\n",
       "    <tr>\n",
       "      <th>2</th>\n",
       "      <td>2</td>\n",
       "      <td>sell</td>\n",
       "      <td>apartment</td>\n",
       "      <td>Mataderos</td>\n",
       "      <td>|Argentina|Capital Federal|Mataderos|</td>\n",
       "      <td>Argentina</td>\n",
       "      <td>Capital Federal</td>\n",
       "      <td>3430787.0</td>\n",
       "      <td>-34.6522615,-58.5229825</td>\n",
       "      <td>-34.652262</td>\n",
       "      <td>...</td>\n",
       "      <td>1309.090909</td>\n",
       "      <td>NaN</td>\n",
       "      <td>NaN</td>\n",
       "      <td>NaN</td>\n",
       "      <td>http://www.properati.com.ar/15bod_venta_depart...</td>\n",
       "      <td>2 AMBIENTES 3ER PISO LATERAL LIVING COMEDOR AM...</td>\n",
       "      <td>2 AMB 3ER PISO CON ASCENSOR APTO CREDITO</td>\n",
       "      <td>https://thumbs4.properati.com/5/SXKr34F_IwG3W_...</td>\n",
       "      <td>POINT (-58.52298 -34.65226)</td>\n",
       "      <td>0.057533</td>\n",
       "    </tr>\n",
       "    <tr>\n",
       "      <th>3</th>\n",
       "      <td>3</td>\n",
       "      <td>sell</td>\n",
       "      <td>PH</td>\n",
       "      <td>Liniers</td>\n",
       "      <td>|Argentina|Capital Federal|Liniers|</td>\n",
       "      <td>Argentina</td>\n",
       "      <td>Capital Federal</td>\n",
       "      <td>3431333.0</td>\n",
       "      <td>-34.6477969,-58.5164244</td>\n",
       "      <td>-34.647797</td>\n",
       "      <td>...</td>\n",
       "      <td>NaN</td>\n",
       "      <td>NaN</td>\n",
       "      <td>NaN</td>\n",
       "      <td>NaN</td>\n",
       "      <td>http://www.properati.com.ar/15boh_venta_ph_lin...</td>\n",
       "      <td>PH 3 ambientes con patio. Hay 3 deptos en lote...</td>\n",
       "      <td>PH 3 amb. cfte. reciclado</td>\n",
       "      <td>https://thumbs4.properati.com/3/DgIfX-85Mog5SP...</td>\n",
       "      <td>POINT (-58.51642 -34.64780)</td>\n",
       "      <td>0.049808</td>\n",
       "    </tr>\n",
       "    <tr>\n",
       "      <th>7</th>\n",
       "      <td>7</td>\n",
       "      <td>sell</td>\n",
       "      <td>apartment</td>\n",
       "      <td>Belgrano</td>\n",
       "      <td>|Argentina|Capital Federal|Belgrano|</td>\n",
       "      <td>Argentina</td>\n",
       "      <td>Capital Federal</td>\n",
       "      <td>3436077.0</td>\n",
       "      <td>-34.5598729,-58.443362</td>\n",
       "      <td>-34.559873</td>\n",
       "      <td>...</td>\n",
       "      <td>3450.000000</td>\n",
       "      <td>NaN</td>\n",
       "      <td>NaN</td>\n",
       "      <td>NaN</td>\n",
       "      <td>http://www.properati.com.ar/15bot_venta_depart...</td>\n",
       "      <td>EXCELENTE MONOAMBIENTE A ESTRENAR AMPLIO SUPER...</td>\n",
       "      <td>JOSE HERNANDEZ 1400 MONOAMBIENTE  ESTRENAR CAT...</td>\n",
       "      <td>https://thumbs4.properati.com/1/IHxARynlr8sPEW...</td>\n",
       "      <td>POINT (-58.44336 -34.55987)</td>\n",
       "      <td>0.010223</td>\n",
       "    </tr>\n",
       "    <tr>\n",
       "      <th>8</th>\n",
       "      <td>8</td>\n",
       "      <td>sell</td>\n",
       "      <td>apartment</td>\n",
       "      <td>Belgrano</td>\n",
       "      <td>|Argentina|Capital Federal|Belgrano|</td>\n",
       "      <td>Argentina</td>\n",
       "      <td>Capital Federal</td>\n",
       "      <td>3436077.0</td>\n",
       "      <td>-34.5598729,-58.443362</td>\n",
       "      <td>-34.559873</td>\n",
       "      <td>...</td>\n",
       "      <td>3250.000000</td>\n",
       "      <td>NaN</td>\n",
       "      <td>NaN</td>\n",
       "      <td>NaN</td>\n",
       "      <td>http://www.properati.com.ar/15bou_venta_depart...</td>\n",
       "      <td>EXCELENTE DOS AMBIENTES  ESTRENAR AMPLIO SUPER...</td>\n",
       "      <td>JOSE HERNANDEZ   1400 DOS AMBIENTES ESTRENAR ,...</td>\n",
       "      <td>https://thumbs4.properati.com/2/J3zOjgaFHrkvnv...</td>\n",
       "      <td>POINT (-58.44336 -34.55987)</td>\n",
       "      <td>0.010223</td>\n",
       "    </tr>\n",
       "    <tr>\n",
       "      <th>...</th>\n",
       "      <td>...</td>\n",
       "      <td>...</td>\n",
       "      <td>...</td>\n",
       "      <td>...</td>\n",
       "      <td>...</td>\n",
       "      <td>...</td>\n",
       "      <td>...</td>\n",
       "      <td>...</td>\n",
       "      <td>...</td>\n",
       "      <td>...</td>\n",
       "      <td>...</td>\n",
       "      <td>...</td>\n",
       "      <td>...</td>\n",
       "      <td>...</td>\n",
       "      <td>...</td>\n",
       "      <td>...</td>\n",
       "      <td>...</td>\n",
       "      <td>...</td>\n",
       "      <td>...</td>\n",
       "      <td>...</td>\n",
       "      <td>...</td>\n",
       "    </tr>\n",
       "    <tr>\n",
       "      <th>121153</th>\n",
       "      <td>121153</td>\n",
       "      <td>sell</td>\n",
       "      <td>apartment</td>\n",
       "      <td>Barrio Norte</td>\n",
       "      <td>|Argentina|Capital Federal|Barrio Norte|</td>\n",
       "      <td>Argentina</td>\n",
       "      <td>Capital Federal</td>\n",
       "      <td>3436109.0</td>\n",
       "      <td>-34.5992135511,-58.4025191971</td>\n",
       "      <td>-34.599214</td>\n",
       "      <td>...</td>\n",
       "      <td>2538.461538</td>\n",
       "      <td>NaN</td>\n",
       "      <td>NaN</td>\n",
       "      <td>NaN</td>\n",
       "      <td>http://www.properati.com.ar/1cj5g_venta_depart...</td>\n",
       "      <td>EXCELENTE DEPARTAMENTO CON TERRAZA PROPIA Y PA...</td>\n",
       "      <td>EXCELENTE DEPARTAMENTO DE 3 AMBIENTES CON TERR...</td>\n",
       "      <td>https://thumbs4.properati.com/0/xIo-Keo_1sE6zO...</td>\n",
       "      <td>POINT (-58.40252 -34.59921)</td>\n",
       "      <td>0.001422</td>\n",
       "    </tr>\n",
       "    <tr>\n",
       "      <th>121158</th>\n",
       "      <td>121158</td>\n",
       "      <td>sell</td>\n",
       "      <td>apartment</td>\n",
       "      <td>Recoleta</td>\n",
       "      <td>|Argentina|Capital Federal|Recoleta|</td>\n",
       "      <td>Argentina</td>\n",
       "      <td>Capital Federal</td>\n",
       "      <td>3429595.0</td>\n",
       "      <td>-34.587425443,-58.3973722534</td>\n",
       "      <td>-34.587425</td>\n",
       "      <td>...</td>\n",
       "      <td>4230.769231</td>\n",
       "      <td>NaN</td>\n",
       "      <td>NaN</td>\n",
       "      <td>NaN</td>\n",
       "      <td>http://www.properati.com.ar/1cj5s_venta_depart...</td>\n",
       "      <td>Excelente Ubicación - Avenida Pueyrredon y Las...</td>\n",
       "      <td>Departamento - Recoleta</td>\n",
       "      <td>https://thumbs4.properati.com/1/O847ZBAPkkdt0a...</td>\n",
       "      <td>POINT (-58.39737 -34.58743)</td>\n",
       "      <td>0.000161</td>\n",
       "    </tr>\n",
       "    <tr>\n",
       "      <th>121160</th>\n",
       "      <td>121160</td>\n",
       "      <td>sell</td>\n",
       "      <td>apartment</td>\n",
       "      <td>Belgrano</td>\n",
       "      <td>|Argentina|Capital Federal|Belgrano|</td>\n",
       "      <td>Argentina</td>\n",
       "      <td>Capital Federal</td>\n",
       "      <td>3436077.0</td>\n",
       "      <td>-34.563685346,-58.4426825896</td>\n",
       "      <td>-34.563685</td>\n",
       "      <td>...</td>\n",
       "      <td>NaN</td>\n",
       "      <td>NaN</td>\n",
       "      <td>NaN</td>\n",
       "      <td>6300.0</td>\n",
       "      <td>http://www.properati.com.ar/1cj5v_venta_depart...</td>\n",
       "      <td>Edificio en esquina de muy buena categoría de ...</td>\n",
       "      <td>Av .Luis Maria Campos 1400- Belgrano-Capital F...</td>\n",
       "      <td>https://thumbs4.properati.com/0/zeLNBuyylOJL7z...</td>\n",
       "      <td>POINT (-58.44268 -34.56369)</td>\n",
       "      <td>0.006631</td>\n",
       "    </tr>\n",
       "    <tr>\n",
       "      <th>121209</th>\n",
       "      <td>121209</td>\n",
       "      <td>sell</td>\n",
       "      <td>apartment</td>\n",
       "      <td>Belgrano</td>\n",
       "      <td>|Argentina|Capital Federal|Belgrano|</td>\n",
       "      <td>Argentina</td>\n",
       "      <td>Capital Federal</td>\n",
       "      <td>3436077.0</td>\n",
       "      <td>-34.563685346,-58.4426825896</td>\n",
       "      <td>-34.563685</td>\n",
       "      <td>...</td>\n",
       "      <td>NaN</td>\n",
       "      <td>NaN</td>\n",
       "      <td>NaN</td>\n",
       "      <td>6300.0</td>\n",
       "      <td>http://www.properati.com.ar/1cj7c_venta_depart...</td>\n",
       "      <td>Edificio en esquina de muy buena categoría de ...</td>\n",
       "      <td>Av .Luis Maria Campos 1400- Belgrano-Capital F...</td>\n",
       "      <td>https://thumbs4.properati.com/0/zeLNBuyylOJL7z...</td>\n",
       "      <td>POINT (-58.44268 -34.56369)</td>\n",
       "      <td>0.006631</td>\n",
       "    </tr>\n",
       "    <tr>\n",
       "      <th>121217</th>\n",
       "      <td>121217</td>\n",
       "      <td>sell</td>\n",
       "      <td>apartment</td>\n",
       "      <td>Villa Urquiza</td>\n",
       "      <td>|Argentina|Capital Federal|Villa Urquiza|</td>\n",
       "      <td>Argentina</td>\n",
       "      <td>Capital Federal</td>\n",
       "      <td>3433775.0</td>\n",
       "      <td>-34.5706388726,-58.4755963355</td>\n",
       "      <td>-34.570639</td>\n",
       "      <td>...</td>\n",
       "      <td>3371.794872</td>\n",
       "      <td>NaN</td>\n",
       "      <td>NaN</td>\n",
       "      <td>NaN</td>\n",
       "      <td>http://www.properati.com.ar/1cja7_venta_depart...</td>\n",
       "      <td>VENTA DEPARTAMENTO AMBIENTE DIVISIBLE A ESTREN...</td>\n",
       "      <td>VENTA DEPARTAMENTO AMBIENTE DIVISIBLE A ESTREN...</td>\n",
       "      <td>https://thumbs4.properati.com/9/YAe_-2gRVykADP...</td>\n",
       "      <td>POINT (-58.47560 -34.57064)</td>\n",
       "      <td>0.008977</td>\n",
       "    </tr>\n",
       "  </tbody>\n",
       "</table>\n",
       "<p>23769 rows × 28 columns</p>\n",
       "</div>"
      ],
      "text/plain": [
       "        Unnamed: 0 operation property_type     place_name  \\\n",
       "0                0      sell            PH      Mataderos   \n",
       "2                2      sell     apartment      Mataderos   \n",
       "3                3      sell            PH        Liniers   \n",
       "7                7      sell     apartment       Belgrano   \n",
       "8                8      sell     apartment       Belgrano   \n",
       "...            ...       ...           ...            ...   \n",
       "121153      121153      sell     apartment   Barrio Norte   \n",
       "121158      121158      sell     apartment       Recoleta   \n",
       "121160      121160      sell     apartment       Belgrano   \n",
       "121209      121209      sell     apartment       Belgrano   \n",
       "121217      121217      sell     apartment  Villa Urquiza   \n",
       "\n",
       "                          place_with_parent_names country_name  \\\n",
       "0           |Argentina|Capital Federal|Mataderos|    Argentina   \n",
       "2           |Argentina|Capital Federal|Mataderos|    Argentina   \n",
       "3             |Argentina|Capital Federal|Liniers|    Argentina   \n",
       "7            |Argentina|Capital Federal|Belgrano|    Argentina   \n",
       "8            |Argentina|Capital Federal|Belgrano|    Argentina   \n",
       "...                                           ...          ...   \n",
       "121153   |Argentina|Capital Federal|Barrio Norte|    Argentina   \n",
       "121158       |Argentina|Capital Federal|Recoleta|    Argentina   \n",
       "121160       |Argentina|Capital Federal|Belgrano|    Argentina   \n",
       "121209       |Argentina|Capital Federal|Belgrano|    Argentina   \n",
       "121217  |Argentina|Capital Federal|Villa Urquiza|    Argentina   \n",
       "\n",
       "             state_name  geonames_id                        lat-lon  \\\n",
       "0       Capital Federal    3430787.0        -34.6618237,-58.5088387   \n",
       "2       Capital Federal    3430787.0        -34.6522615,-58.5229825   \n",
       "3       Capital Federal    3431333.0        -34.6477969,-58.5164244   \n",
       "7       Capital Federal    3436077.0         -34.5598729,-58.443362   \n",
       "8       Capital Federal    3436077.0         -34.5598729,-58.443362   \n",
       "...                 ...          ...                            ...   \n",
       "121153  Capital Federal    3436109.0  -34.5992135511,-58.4025191971   \n",
       "121158  Capital Federal    3429595.0   -34.587425443,-58.3973722534   \n",
       "121160  Capital Federal    3436077.0   -34.563685346,-58.4426825896   \n",
       "121209  Capital Federal    3436077.0   -34.563685346,-58.4426825896   \n",
       "121217  Capital Federal    3433775.0  -34.5706388726,-58.4755963355   \n",
       "\n",
       "              lat  ...  price_per_m2  floor rooms  expenses  \\\n",
       "0      -34.661824  ...   1550.000000    NaN   NaN       NaN   \n",
       "2      -34.652262  ...   1309.090909    NaN   NaN       NaN   \n",
       "3      -34.647797  ...           NaN    NaN   NaN       NaN   \n",
       "7      -34.559873  ...   3450.000000    NaN   NaN       NaN   \n",
       "8      -34.559873  ...   3250.000000    NaN   NaN       NaN   \n",
       "...           ...  ...           ...    ...   ...       ...   \n",
       "121153 -34.599214  ...   2538.461538    NaN   NaN       NaN   \n",
       "121158 -34.587425  ...   4230.769231    NaN   NaN       NaN   \n",
       "121160 -34.563685  ...           NaN    NaN   NaN    6300.0   \n",
       "121209 -34.563685  ...           NaN    NaN   NaN    6300.0   \n",
       "121217 -34.570639  ...   3371.794872    NaN   NaN       NaN   \n",
       "\n",
       "                                            properati_url  \\\n",
       "0       http://www.properati.com.ar/15bo8_venta_ph_mat...   \n",
       "2       http://www.properati.com.ar/15bod_venta_depart...   \n",
       "3       http://www.properati.com.ar/15boh_venta_ph_lin...   \n",
       "7       http://www.properati.com.ar/15bot_venta_depart...   \n",
       "8       http://www.properati.com.ar/15bou_venta_depart...   \n",
       "...                                                   ...   \n",
       "121153  http://www.properati.com.ar/1cj5g_venta_depart...   \n",
       "121158  http://www.properati.com.ar/1cj5s_venta_depart...   \n",
       "121160  http://www.properati.com.ar/1cj5v_venta_depart...   \n",
       "121209  http://www.properati.com.ar/1cj7c_venta_depart...   \n",
       "121217  http://www.properati.com.ar/1cja7_venta_depart...   \n",
       "\n",
       "                                              description  \\\n",
       "0       2 AMBIENTES TIPO CASA PLANTA BAJA POR PASILLO,...   \n",
       "2       2 AMBIENTES 3ER PISO LATERAL LIVING COMEDOR AM...   \n",
       "3       PH 3 ambientes con patio. Hay 3 deptos en lote...   \n",
       "7       EXCELENTE MONOAMBIENTE A ESTRENAR AMPLIO SUPER...   \n",
       "8       EXCELENTE DOS AMBIENTES  ESTRENAR AMPLIO SUPER...   \n",
       "...                                                   ...   \n",
       "121153  EXCELENTE DEPARTAMENTO CON TERRAZA PROPIA Y PA...   \n",
       "121158  Excelente Ubicación - Avenida Pueyrredon y Las...   \n",
       "121160  Edificio en esquina de muy buena categoría de ...   \n",
       "121209  Edificio en esquina de muy buena categoría de ...   \n",
       "121217  VENTA DEPARTAMENTO AMBIENTE DIVISIBLE A ESTREN...   \n",
       "\n",
       "                                                    title  \\\n",
       "0                      2 AMB TIPO CASA SIN EXPENSAS EN PB   \n",
       "2                2 AMB 3ER PISO CON ASCENSOR APTO CREDITO   \n",
       "3                            PH 3 amb. cfte. reciclado      \n",
       "7       JOSE HERNANDEZ 1400 MONOAMBIENTE  ESTRENAR CAT...   \n",
       "8       JOSE HERNANDEZ   1400 DOS AMBIENTES ESTRENAR ,...   \n",
       "...                                                   ...   \n",
       "121153  EXCELENTE DEPARTAMENTO DE 3 AMBIENTES CON TERR...   \n",
       "121158                            Departamento - Recoleta   \n",
       "121160  Av .Luis Maria Campos 1400- Belgrano-Capital F...   \n",
       "121209  Av .Luis Maria Campos 1400- Belgrano-Capital F...   \n",
       "121217  VENTA DEPARTAMENTO AMBIENTE DIVISIBLE A ESTREN...   \n",
       "\n",
       "                                          image_thumbnail  \\\n",
       "0       https://thumbs4.properati.com/8/BluUYiHJLhgIIK...   \n",
       "2       https://thumbs4.properati.com/5/SXKr34F_IwG3W_...   \n",
       "3       https://thumbs4.properati.com/3/DgIfX-85Mog5SP...   \n",
       "7       https://thumbs4.properati.com/1/IHxARynlr8sPEW...   \n",
       "8       https://thumbs4.properati.com/2/J3zOjgaFHrkvnv...   \n",
       "...                                                   ...   \n",
       "121153  https://thumbs4.properati.com/0/xIo-Keo_1sE6zO...   \n",
       "121158  https://thumbs4.properati.com/1/O847ZBAPkkdt0a...   \n",
       "121160  https://thumbs4.properati.com/0/zeLNBuyylOJL7z...   \n",
       "121209  https://thumbs4.properati.com/0/zeLNBuyylOJL7z...   \n",
       "121217  https://thumbs4.properati.com/9/YAe_-2gRVykADP...   \n",
       "\n",
       "                           geometry  distancia_subte  \n",
       "0       POINT (-58.50884 -34.66182)         0.050048  \n",
       "2       POINT (-58.52298 -34.65226)         0.057533  \n",
       "3       POINT (-58.51642 -34.64780)         0.049808  \n",
       "7       POINT (-58.44336 -34.55987)         0.010223  \n",
       "8       POINT (-58.44336 -34.55987)         0.010223  \n",
       "...                             ...              ...  \n",
       "121153  POINT (-58.40252 -34.59921)         0.001422  \n",
       "121158  POINT (-58.39737 -34.58743)         0.000161  \n",
       "121160  POINT (-58.44268 -34.56369)         0.006631  \n",
       "121209  POINT (-58.44268 -34.56369)         0.006631  \n",
       "121217  POINT (-58.47560 -34.57064)         0.008977  \n",
       "\n",
       "[23769 rows x 28 columns]"
      ]
     },
     "execution_count": 17,
     "metadata": {},
     "output_type": "execute_result"
    }
   ],
   "source": [
    "capital_federal_geo"
   ]
  },
  {
   "cell_type": "code",
   "execution_count": 18,
   "metadata": {},
   "outputs": [
    {
     "data": {
      "text/plain": [
       "Index(['Unnamed: 0', 'operation', 'property_type', 'place_name',\n",
       "       'place_with_parent_names', 'country_name', 'state_name', 'geonames_id',\n",
       "       'lat-lon', 'lat', 'lon', 'price', 'currency',\n",
       "       'price_aprox_local_currency', 'price_aprox_usd', 'surface_total_in_m2',\n",
       "       'surface_covered_in_m2', 'price_usd_per_m2', 'price_per_m2', 'floor',\n",
       "       'rooms', 'expenses', 'properati_url', 'description', 'title',\n",
       "       'image_thumbnail', 'geometry', 'distancia_subte'],\n",
       "      dtype='object')"
      ]
     },
     "execution_count": 18,
     "metadata": {},
     "output_type": "execute_result"
    }
   ],
   "source": [
    "data_CABA_deptos=capital_federal_geo.loc[(capital_federal_geo.state_name==\"Capital Federal\")&(capital_federal_geo.property_type==\"apartment\")]\n",
    "data_CABA_deptos.columns"
   ]
  },
  {
   "cell_type": "code",
   "execution_count": 19,
   "metadata": {},
   "outputs": [
    {
     "data": {
      "text/plain": [
       "19445"
      ]
     },
     "execution_count": 19,
     "metadata": {},
     "output_type": "execute_result"
    }
   ],
   "source": [
    "data_CABA_deptos.shape[0]"
   ]
  },
  {
   "cell_type": "code",
   "execution_count": 20,
   "metadata": {},
   "outputs": [],
   "source": [
    "data_CABA_deptos=data_CABA_deptos.drop(['Unnamed: 0', 'operation', \n",
    "       'place_with_parent_names', 'country_name',  'geonames_id',\n",
    "       'lat-lon', 'price', 'currency',\n",
    "       'price_aprox_local_currency', 'price_per_m2', 'floor',\n",
    "       'rooms', 'expenses', 'properati_url',  'image_thumbnail'\n",
    "       ],axis=1)"
   ]
  },
  {
   "cell_type": "code",
   "execution_count": 21,
   "metadata": {},
   "outputs": [
    {
     "data": {
      "text/plain": [
       "Index(['property_type', 'place_name', 'state_name', 'lat', 'lon',\n",
       "       'price_aprox_usd', 'surface_total_in_m2', 'surface_covered_in_m2',\n",
       "       'price_usd_per_m2', 'description', 'title', 'geometry',\n",
       "       'distancia_subte'],\n",
       "      dtype='object')"
      ]
     },
     "execution_count": 21,
     "metadata": {},
     "output_type": "execute_result"
    }
   ],
   "source": [
    "data_CABA_deptos.columns"
   ]
  },
  {
   "cell_type": "code",
   "execution_count": 22,
   "metadata": {},
   "outputs": [
    {
     "data": {
      "text/plain": [
       "property_type               0\n",
       "place_name                  0\n",
       "state_name                  0\n",
       "lat                         0\n",
       "lon                         0\n",
       "price_aprox_usd          1001\n",
       "surface_total_in_m2      3938\n",
       "surface_covered_in_m2    1262\n",
       "price_usd_per_m2         5024\n",
       "description                 0\n",
       "title                       0\n",
       "geometry                    0\n",
       "distancia_subte             0\n",
       "dtype: int64"
      ]
     },
     "execution_count": 22,
     "metadata": {},
     "output_type": "execute_result"
    }
   ],
   "source": [
    "data_CABA_deptos.isnull().sum()"
   ]
  },
  {
   "cell_type": "code",
   "execution_count": 23,
   "metadata": {},
   "outputs": [],
   "source": [
    "data_CABA_deptos_limpio=data_CABA_deptos.drop(data_CABA_deptos.loc[data_CABA_deptos.price_aprox_usd.isnull()].index)"
   ]
  },
  {
   "cell_type": "code",
   "execution_count": 24,
   "metadata": {},
   "outputs": [
    {
     "data": {
      "text/plain": [
       "property_type               0\n",
       "place_name                  0\n",
       "state_name                  0\n",
       "lat                         0\n",
       "lon                         0\n",
       "price_aprox_usd             0\n",
       "surface_total_in_m2      3799\n",
       "surface_covered_in_m2     847\n",
       "price_usd_per_m2         4023\n",
       "description                 0\n",
       "title                       0\n",
       "geometry                    0\n",
       "distancia_subte             0\n",
       "dtype: int64"
      ]
     },
     "execution_count": 24,
     "metadata": {},
     "output_type": "execute_result"
    }
   ],
   "source": [
    "data_CABA_deptos_limpio.isnull().sum()"
   ]
  },
  {
   "cell_type": "code",
   "execution_count": 25,
   "metadata": {},
   "outputs": [
    {
     "data": {
      "text/plain": [
       "18444"
      ]
     },
     "execution_count": 25,
     "metadata": {},
     "output_type": "execute_result"
    }
   ],
   "source": [
    "data_CABA_deptos_limpio.shape[0]"
   ]
  },
  {
   "cell_type": "code",
   "execution_count": 26,
   "metadata": {},
   "outputs": [
    {
     "data": {
      "text/plain": [
       "84"
      ]
     },
     "execution_count": 26,
     "metadata": {},
     "output_type": "execute_result"
    }
   ],
   "source": [
    "superficie_max=400\n",
    "deptos_grandes=data_CABA_deptos_limpio[data_CABA_deptos_limpio.surface_total_in_m2>superficie_max]\n",
    "deptos_grandes.shape[0]"
   ]
  },
  {
   "cell_type": "code",
   "execution_count": 27,
   "metadata": {},
   "outputs": [
    {
     "data": {
      "text/plain": [
       "14561"
      ]
     },
     "execution_count": 27,
     "metadata": {},
     "output_type": "execute_result"
    }
   ],
   "source": [
    "superficie_max=400\n",
    "deptos_normales=data_CABA_deptos_limpio[data_CABA_deptos_limpio.surface_total_in_m2<=superficie_max]\n",
    "deptos_normales.shape[0]"
   ]
  },
  {
   "cell_type": "code",
   "execution_count": 28,
   "metadata": {},
   "outputs": [
    {
     "data": {
      "text/plain": [
       "17"
      ]
     },
     "execution_count": 28,
     "metadata": {},
     "output_type": "execute_result"
    }
   ],
   "source": [
    "superficie_min=15\n",
    "deptos_mini=data_CABA_deptos_limpio[data_CABA_deptos_limpio.surface_total_in_m2<superficie_min]  \n",
    "deptos_mini.shape[0]  "
   ]
  },
  {
   "cell_type": "code",
   "execution_count": 29,
   "metadata": {},
   "outputs": [],
   "source": [
    "data_CABA_deptos_limpios_sin_outliers=data_CABA_deptos_limpio[(data_CABA_deptos_limpio.surface_total_in_m2>=superficie_min)&(data_CABA_deptos_limpio.surface_total_in_m2<=superficie_max)]"
   ]
  },
  {
   "cell_type": "code",
   "execution_count": 30,
   "metadata": {},
   "outputs": [
    {
     "data": {
      "text/plain": [
       "14544"
      ]
     },
     "execution_count": 30,
     "metadata": {},
     "output_type": "execute_result"
    }
   ],
   "source": [
    "data_CABA_deptos_limpios_sin_outliers.shape[0]"
   ]
  },
  {
   "cell_type": "code",
   "execution_count": 31,
   "metadata": {},
   "outputs": [
    {
     "data": {
      "text/plain": [
       "property_type              0\n",
       "place_name                 0\n",
       "state_name                 0\n",
       "lat                        0\n",
       "lon                        0\n",
       "price_aprox_usd            0\n",
       "surface_total_in_m2        0\n",
       "surface_covered_in_m2    506\n",
       "price_usd_per_m2         218\n",
       "description                0\n",
       "title                      0\n",
       "geometry                   0\n",
       "distancia_subte            0\n",
       "dtype: int64"
      ]
     },
     "execution_count": 31,
     "metadata": {},
     "output_type": "execute_result"
    }
   ],
   "source": [
    "data_CABA_deptos_limpios_sin_outliers.isnull().sum()"
   ]
  },
  {
   "cell_type": "code",
   "execution_count": 32,
   "metadata": {},
   "outputs": [
    {
     "name": "stderr",
     "output_type": "stream",
     "text": [
      "c:\\Users\\anacl\\.conda\\envs\\dhdsblend2021_clase10\\lib\\site-packages\\geopandas\\geodataframe.py:853: SettingWithCopyWarning: \n",
      "A value is trying to be set on a copy of a slice from a DataFrame.\n",
      "Try using .loc[row_indexer,col_indexer] = value instead\n",
      "\n",
      "See the caveats in the documentation: https://pandas.pydata.org/pandas-docs/stable/user_guide/indexing.html#returning-a-view-versus-a-copy\n",
      "  super(GeoDataFrame, self).__setitem__(key, value)\n"
     ]
    }
   ],
   "source": [
    "data_CABA_deptos_limpios_sin_outliers[\"diferencia_sup\"]=data_CABA_deptos_limpios_sin_outliers[\"surface_total_in_m2\"]-data_CABA_deptos_limpios_sin_outliers[\"surface_covered_in_m2\"]"
   ]
  },
  {
   "cell_type": "code",
   "execution_count": 33,
   "metadata": {},
   "outputs": [
    {
     "name": "stdout",
     "output_type": "stream",
     "text": [
      "41\n"
     ]
    }
   ],
   "source": [
    "sup_mal=data_CABA_deptos_limpios_sin_outliers[data_CABA_deptos_limpios_sin_outliers.diferencia_sup<0]\n",
    "print(sup_mal.shape[0])\n",
    "sup_mal_indices=sup_mal.index.to_list"
   ]
  },
  {
   "cell_type": "code",
   "execution_count": 34,
   "metadata": {},
   "outputs": [],
   "source": [
    "data_CABA_deptos_limpios_sin_outliers=data_CABA_deptos_limpios_sin_outliers[data_CABA_deptos_limpios_sin_outliers.diferencia_sup>=0]"
   ]
  },
  {
   "cell_type": "code",
   "execution_count": 35,
   "metadata": {},
   "outputs": [
    {
     "data": {
      "text/plain": [
       "13997"
      ]
     },
     "execution_count": 35,
     "metadata": {},
     "output_type": "execute_result"
    }
   ],
   "source": [
    "data_CABA_deptos_limpios_sin_outliers.shape[0]"
   ]
  },
  {
   "cell_type": "code",
   "execution_count": 36,
   "metadata": {},
   "outputs": [
    {
     "data": {
      "text/plain": [
       "property_type              0\n",
       "place_name                 0\n",
       "state_name                 0\n",
       "lat                        0\n",
       "lon                        0\n",
       "price_aprox_usd            0\n",
       "surface_total_in_m2        0\n",
       "surface_covered_in_m2      0\n",
       "price_usd_per_m2         204\n",
       "description                0\n",
       "title                      0\n",
       "geometry                   0\n",
       "distancia_subte            0\n",
       "diferencia_sup             0\n",
       "dtype: int64"
      ]
     },
     "execution_count": 36,
     "metadata": {},
     "output_type": "execute_result"
    }
   ],
   "source": [
    "data_CABA_deptos_limpios_sin_outliers.isnull().sum()"
   ]
  },
  {
   "cell_type": "code",
   "execution_count": 37,
   "metadata": {},
   "outputs": [],
   "source": [
    "data_CABA_deptos_limpios_sin_outliers[\"precio_m2_usd_por_m2_total\"]=data_CABA_deptos_limpios_sin_outliers[\"price_aprox_usd\"]/data_CABA_deptos_limpios_sin_outliers[\"surface_total_in_m2\"]"
   ]
  },
  {
   "cell_type": "code",
   "execution_count": 38,
   "metadata": {},
   "outputs": [],
   "source": [
    "data_CABA_deptos_limpios_sin_outliers[\"diferencia_precio_m2\"]=data_CABA_deptos_limpios_sin_outliers[\"precio_m2_usd_por_m2_total\"]-data_CABA_deptos_limpios_sin_outliers[\"price_usd_per_m2\"]"
   ]
  },
  {
   "cell_type": "code",
   "execution_count": 39,
   "metadata": {},
   "outputs": [
    {
     "data": {
      "text/plain": [
       "<bound method IndexOpsMixin.value_counts of 2         0.000000e+00\n",
       "7         4.547474e-13\n",
       "8         0.000000e+00\n",
       "19        4.547474e-13\n",
       "21       -4.547474e-13\n",
       "              ...     \n",
       "121121    4.547474e-13\n",
       "121131    4.547474e-13\n",
       "121153    4.547474e-13\n",
       "121158    0.000000e+00\n",
       "121217    0.000000e+00\n",
       "Name: diferencia_precio_m2, Length: 13997, dtype: float64>"
      ]
     },
     "execution_count": 39,
     "metadata": {},
     "output_type": "execute_result"
    }
   ],
   "source": [
    "data_CABA_deptos_limpios_sin_outliers[\"diferencia_precio_m2\"].value_counts"
   ]
  },
  {
   "cell_type": "code",
   "execution_count": 40,
   "metadata": {},
   "outputs": [
    {
     "data": {
      "text/plain": [
       "[(0.0, 10000.0)]"
      ]
     },
     "execution_count": 40,
     "metadata": {},
     "output_type": "execute_result"
    },
    {
     "data": {
      "image/png": "[encoded data removed]",
      "text/plain": [
       "<Figure size 640x480 with 1 Axes>"
      ]
     },
     "metadata": {},
     "output_type": "display_data"
    }
   ],
   "source": [
    "g=sns.scatterplot(data=data_CABA_deptos_limpios_sin_outliers, x='price_usd_per_m2', y='precio_m2_usd_por_m2_total')\n",
    "g.set(xlim=(0,10000))\n",
    "g.set(ylim=(0,10000))"
   ]
  },
  {
   "cell_type": "code",
   "execution_count": 41,
   "metadata": {},
   "outputs": [],
   "source": [
    "data_CABA_deptos_limpios_sin_outliers=data_CABA_deptos_limpios_sin_outliers.drop(\"price_usd_per_m2\",axis=1)"
   ]
  },
  {
   "cell_type": "code",
   "execution_count": 42,
   "metadata": {},
   "outputs": [],
   "source": [
    "data_CABA_deptos_limpios_sin_outliers=data_CABA_deptos_limpios_sin_outliers.drop([\"diferencia_sup\",\"diferencia_precio_m2\"],axis=1)"
   ]
  },
  {
   "cell_type": "code",
   "execution_count": 43,
   "metadata": {},
   "outputs": [
    {
     "data": {
      "text/plain": [
       "property_type                 0\n",
       "place_name                    0\n",
       "state_name                    0\n",
       "lat                           0\n",
       "lon                           0\n",
       "price_aprox_usd               0\n",
       "surface_total_in_m2           0\n",
       "surface_covered_in_m2         0\n",
       "description                   0\n",
       "title                         0\n",
       "geometry                      0\n",
       "distancia_subte               0\n",
       "precio_m2_usd_por_m2_total    0\n",
       "dtype: int64"
      ]
     },
     "execution_count": 43,
     "metadata": {},
     "output_type": "execute_result"
    }
   ],
   "source": [
    "data_CABA_deptos_limpios_sin_outliers.isnull().sum()"
   ]
  },
  {
   "cell_type": "code",
   "execution_count": 44,
   "metadata": {},
   "outputs": [
    {
     "name": "stdout",
     "output_type": "stream",
     "text": [
      "12634 1363\n"
     ]
    }
   ],
   "source": [
    "import re\n",
    "import numpy as np\n",
    "pattern_pozo=\"pozo|proyecto|constructor\"\n",
    "pattern_pozo_regex=re.compile(pattern_pozo, flags = re.IGNORECASE)\n",
    "pattern_pozo_match=data_CABA_deptos_limpios_sin_outliers[\"description\"].apply(lambda x: x if x is np.NaN else pattern_pozo_regex.search(x))\n",
    "print(pattern_pozo_match.isnull().sum(),pattern_pozo_match.notnull().sum())"
   ]
  },
  {
   "cell_type": "code",
   "execution_count": 45,
   "metadata": {},
   "outputs": [],
   "source": [
    "data_CABA_deptos_limpios_sin_outliers.loc[pattern_pozo_match.notnull(), \"Pozo\"] = pattern_pozo_match[pattern_pozo_match.notnull()].apply(lambda x: x.group(0))\n"
   ]
  },
  {
   "cell_type": "code",
   "execution_count": 46,
   "metadata": {},
   "outputs": [
    {
     "data": {
      "text/plain": [
       "proyecto       394\n",
       "pozo           289\n",
       "Pozo           195\n",
       "POZO           132\n",
       "Proyecto       114\n",
       "PROYECTO        83\n",
       "CONSTRUCTOR     72\n",
       "constructor     67\n",
       "Constructor     17\n",
       "Name: Pozo, dtype: int64"
      ]
     },
     "execution_count": 46,
     "metadata": {},
     "output_type": "execute_result"
    }
   ],
   "source": [
    "data_CABA_deptos_limpios_sin_outliers[\"Pozo\"].value_counts()"
   ]
  },
  {
   "cell_type": "code",
   "execution_count": 47,
   "metadata": {},
   "outputs": [],
   "source": [
    "data_CABA_deptos_limpios_sin_outliers_sin_pozo=data_CABA_deptos_limpios_sin_outliers[data_CABA_deptos_limpios_sin_outliers[\"Pozo\"].isnull()]"
   ]
  },
  {
   "cell_type": "code",
   "execution_count": 48,
   "metadata": {},
   "outputs": [
    {
     "data": {
      "text/plain": [
       "12634"
      ]
     },
     "execution_count": 48,
     "metadata": {},
     "output_type": "execute_result"
    }
   ],
   "source": [
    "data_CABA_deptos_limpios_sin_outliers_sin_pozo.shape[0]"
   ]
  },
  {
   "cell_type": "code",
   "execution_count": 49,
   "metadata": {},
   "outputs": [
    {
     "name": "stdout",
     "output_type": "stream",
     "text": [
      "12634 0\n"
     ]
    }
   ],
   "source": [
    "pattern_pozo_match2=data_CABA_deptos_limpios_sin_outliers_sin_pozo[\"description\"].apply(lambda x: x if x is np.NaN else pattern_pozo_regex.search(x))\n",
    "print(pattern_pozo_match2.isnull().sum(),pattern_pozo_match2.notnull().sum())"
   ]
  },
  {
   "cell_type": "code",
   "execution_count": 50,
   "metadata": {},
   "outputs": [
    {
     "name": "stdout",
     "output_type": "stream",
     "text": [
      "10485 2149\n"
     ]
    }
   ],
   "source": [
    "pattern_amenities=\"amenities\"\n",
    "pattern_amenities_regex=re.compile(pattern_amenities, flags = re.IGNORECASE)\n",
    "pattern_amenities_match=data_CABA_deptos_limpios_sin_outliers_sin_pozo[\"description\"].apply(lambda x: x if x is np.NaN else pattern_amenities_regex.search(x))\n",
    "print(pattern_amenities_match.isnull().sum(),pattern_amenities_match.notnull().sum())"
   ]
  },
  {
   "cell_type": "code",
   "execution_count": 51,
   "metadata": {},
   "outputs": [
    {
     "name": "stderr",
     "output_type": "stream",
     "text": [
      "c:\\Users\\anacl\\.conda\\envs\\dhdsblend2021_clase10\\lib\\site-packages\\geopandas\\geodataframe.py:853: SettingWithCopyWarning: \n",
      "A value is trying to be set on a copy of a slice from a DataFrame.\n",
      "Try using .loc[row_indexer,col_indexer] = value instead\n",
      "\n",
      "See the caveats in the documentation: https://pandas.pydata.org/pandas-docs/stable/user_guide/indexing.html#returning-a-view-versus-a-copy\n",
      "  super(GeoDataFrame, self).__setitem__(key, value)\n",
      "c:\\Users\\anacl\\.conda\\envs\\dhdsblend2021_clase10\\lib\\site-packages\\pandas\\core\\indexing.py:1773: SettingWithCopyWarning: \n",
      "A value is trying to be set on a copy of a slice from a DataFrame.\n",
      "Try using .loc[row_indexer,col_indexer] = value instead\n",
      "\n",
      "See the caveats in the documentation: https://pandas.pydata.org/pandas-docs/stable/user_guide/indexing.html#returning-a-view-versus-a-copy\n",
      "  self._setitem_single_column(ilocs[0], value, pi)\n"
     ]
    }
   ],
   "source": [
    "data_CABA_deptos_limpios_sin_outliers_sin_pozo.loc[pattern_amenities_match.notnull(), \"Amenities\"] = pattern_amenities_match[pattern_amenities_match.notnull()].apply(lambda x: x.group(0))\n"
   ]
  },
  {
   "cell_type": "code",
   "execution_count": 52,
   "metadata": {},
   "outputs": [
    {
     "name": "stdout",
     "output_type": "stream",
     "text": [
      "10725 1909\n"
     ]
    }
   ],
   "source": [
    "pattern_categoria=\"categoría|categoria|lujo|exclusivo\"\n",
    "pattern_categoria_regex=re.compile(pattern_categoria, flags = re.IGNORECASE)\n",
    "pattern_categoria_match=data_CABA_deptos_limpios_sin_outliers_sin_pozo[\"description\"].apply(lambda x: x if x is np.NaN else pattern_categoria_regex.search(x))\n",
    "print(pattern_categoria_match.isnull().sum(),pattern_categoria_match.notnull().sum())"
   ]
  },
  {
   "cell_type": "code",
   "execution_count": 53,
   "metadata": {},
   "outputs": [],
   "source": [
    "data_CABA_deptos_limpios_sin_outliers_sin_pozo.loc[pattern_categoria_match.notnull(), \"Categoria\"] = pattern_categoria_match[pattern_categoria_match.notnull()].apply(lambda x: x.group(0))\n",
    "data_CABA_deptos_limpios_sin_outliers_sin_pozo.Categoria=data_CABA_deptos_limpios_sin_outliers_sin_pozo.Categoria.str.lower()"
   ]
  },
  {
   "cell_type": "code",
   "execution_count": 54,
   "metadata": {},
   "outputs": [
    {
     "data": {
      "text/plain": [
       "categoría    1077\n",
       "categoria     440\n",
       "exclusivo     274\n",
       "lujo          118\n",
       "Name: Categoria, dtype: int64"
      ]
     },
     "execution_count": 54,
     "metadata": {},
     "output_type": "execute_result"
    }
   ],
   "source": [
    "data_CABA_deptos_limpios_sin_outliers_sin_pozo.Categoria.value_counts()"
   ]
  },
  {
   "cell_type": "code",
   "execution_count": 55,
   "metadata": {},
   "outputs": [
    {
     "name": "stderr",
     "output_type": "stream",
     "text": [
      "c:\\Users\\anacl\\.conda\\envs\\dhdsblend2021_clase10\\lib\\site-packages\\pandas\\core\\generic.py:6619: SettingWithCopyWarning: \n",
      "A value is trying to be set on a copy of a slice from a DataFrame\n",
      "\n",
      "See the caveats in the documentation: https://pandas.pydata.org/pandas-docs/stable/user_guide/indexing.html#returning-a-view-versus-a-copy\n",
      "  return self._update_inplace(result)\n"
     ]
    }
   ],
   "source": [
    "data_CABA_deptos_limpios_sin_outliers_sin_pozo[\"Categoria\"].replace(\"categoría\",\"categoria\",inplace=True)\n",
    "data_CABA_deptos_limpios_sin_outliers_sin_pozo[\"Categoria\"].replace(\"exclusivo\",\"categoria\",inplace=True)\n",
    "data_CABA_deptos_limpios_sin_outliers_sin_pozo[\"Categoria\"].replace(\"lujo\",\"categoria\",inplace=True)\n"
   ]
  },
  {
   "cell_type": "code",
   "execution_count": 56,
   "metadata": {},
   "outputs": [
    {
     "data": {
      "text/plain": [
       "categoria    1909\n",
       "Name: Categoria, dtype: int64"
      ]
     },
     "execution_count": 56,
     "metadata": {},
     "output_type": "execute_result"
    }
   ],
   "source": [
    "data_CABA_deptos_limpios_sin_outliers_sin_pozo.Categoria.value_counts()"
   ]
  },
  {
   "cell_type": "code",
   "execution_count": 57,
   "metadata": {},
   "outputs": [
    {
     "data": {
      "text/plain": [
       "amenities    846\n",
       "Amenities    756\n",
       "AMENITIES    547\n",
       "Name: Amenities, dtype: int64"
      ]
     },
     "execution_count": 57,
     "metadata": {},
     "output_type": "execute_result"
    }
   ],
   "source": [
    "data_CABA_deptos_limpios_sin_outliers_sin_pozo.Amenities.value_counts()"
   ]
  },
  {
   "cell_type": "code",
   "execution_count": 58,
   "metadata": {},
   "outputs": [
    {
     "name": "stderr",
     "output_type": "stream",
     "text": [
      "c:\\Users\\anacl\\.conda\\envs\\dhdsblend2021_clase10\\lib\\site-packages\\pandas\\core\\generic.py:6392: SettingWithCopyWarning: \n",
      "A value is trying to be set on a copy of a slice from a DataFrame\n",
      "\n",
      "See the caveats in the documentation: https://pandas.pydata.org/pandas-docs/stable/user_guide/indexing.html#returning-a-view-versus-a-copy\n",
      "  return self._update_inplace(result)\n"
     ]
    }
   ],
   "source": [
    "data_CABA_deptos_limpios_sin_outliers_sin_pozo[\"Amenities\"].replace(\"AMENITIES\",\"amenities\",inplace=True)\n",
    "data_CABA_deptos_limpios_sin_outliers_sin_pozo[\"Amenities\"].replace(\"Amenities\",\"amenities\",inplace=True)\n",
    "data_CABA_deptos_limpios_sin_outliers_sin_pozo.Amenities.fillna(\"sin amenities\",inplace=True)\n"
   ]
  },
  {
   "cell_type": "code",
   "execution_count": 59,
   "metadata": {},
   "outputs": [
    {
     "data": {
      "text/plain": [
       "sin amenities    10485\n",
       "amenities         2149\n",
       "Name: Amenities, dtype: int64"
      ]
     },
     "execution_count": 59,
     "metadata": {},
     "output_type": "execute_result"
    }
   ],
   "source": [
    "data_CABA_deptos_limpios_sin_outliers_sin_pozo.Amenities.value_counts()"
   ]
  },
  {
   "cell_type": "code",
   "execution_count": 60,
   "metadata": {},
   "outputs": [],
   "source": [
    "data_CABA_deptos_limpios_sin_outliers_sin_pozo.Categoria.fillna(\"estandar\",inplace=True)"
   ]
  },
  {
   "cell_type": "code",
   "execution_count": 61,
   "metadata": {},
   "outputs": [
    {
     "data": {
      "text/plain": [
       "estandar     10725\n",
       "categoria     1909\n",
       "Name: Categoria, dtype: int64"
      ]
     },
     "execution_count": 61,
     "metadata": {},
     "output_type": "execute_result"
    }
   ],
   "source": [
    "data_CABA_deptos_limpios_sin_outliers_sin_pozo.Categoria.value_counts()"
   ]
  },
  {
   "cell_type": "code",
   "execution_count": 62,
   "metadata": {},
   "outputs": [
    {
     "data": {
      "text/plain": [
       "sin amenities    10485\n",
       "amenities         2149\n",
       "Name: Amenities, dtype: int64"
      ]
     },
     "execution_count": 62,
     "metadata": {},
     "output_type": "execute_result"
    }
   ],
   "source": [
    "data_CABA_deptos_limpios_sin_outliers_sin_pozo.Amenities.value_counts()"
   ]
  },
  {
   "cell_type": "code",
   "execution_count": 78,
   "metadata": {},
   "outputs": [],
   "source": [
    "dummies_ambas = pd.get_dummies(data=data_CABA_deptos_limpios_sin_outliers_sin_pozo,columns=[\"Categoria\",\"Amenities\"])\n"
   ]
  },
  {
   "cell_type": "code",
   "execution_count": 81,
   "metadata": {},
   "outputs": [
    {
     "data": {
      "text/html": [
       "<div>\n",
       "<style scoped>\n",
       "    .dataframe tbody tr th:only-of-type {\n",
       "        vertical-align: middle;\n",
       "    }\n",
       "\n",
       "    .dataframe tbody tr th {\n",
       "        vertical-align: top;\n",
       "    }\n",
       "\n",
       "    .dataframe thead th {\n",
       "        text-align: right;\n",
       "    }\n",
       "</style>\n",
       "<table border=\"1\" class=\"dataframe\">\n",
       "  <thead>\n",
       "    <tr style=\"text-align: right;\">\n",
       "      <th></th>\n",
       "      <th>property_type</th>\n",
       "      <th>place_name</th>\n",
       "      <th>state_name</th>\n",
       "      <th>lat</th>\n",
       "      <th>lon</th>\n",
       "      <th>price_aprox_usd</th>\n",
       "      <th>surface_total_in_m2</th>\n",
       "      <th>surface_covered_in_m2</th>\n",
       "      <th>description</th>\n",
       "      <th>title</th>\n",
       "      <th>geometry</th>\n",
       "      <th>distancia_subte</th>\n",
       "      <th>precio_m2_usd_por_m2_total</th>\n",
       "      <th>Pozo</th>\n",
       "      <th>Amenities</th>\n",
       "      <th>Categoria</th>\n",
       "    </tr>\n",
       "  </thead>\n",
       "  <tbody>\n",
       "    <tr>\n",
       "      <th>2</th>\n",
       "      <td>apartment</td>\n",
       "      <td>Mataderos</td>\n",
       "      <td>Capital Federal</td>\n",
       "      <td>-34.652262</td>\n",
       "      <td>-58.522982</td>\n",
       "      <td>72000.0</td>\n",
       "      <td>55.0</td>\n",
       "      <td>55.0</td>\n",
       "      <td>2 AMBIENTES 3ER PISO LATERAL LIVING COMEDOR AM...</td>\n",
       "      <td>2 AMB 3ER PISO CON ASCENSOR APTO CREDITO</td>\n",
       "      <td>POINT (-58.52298 -34.65226)</td>\n",
       "      <td>0.057533</td>\n",
       "      <td>1309.090909</td>\n",
       "      <td>NaN</td>\n",
       "      <td>sin amenities</td>\n",
       "      <td>estandar</td>\n",
       "    </tr>\n",
       "    <tr>\n",
       "      <th>7</th>\n",
       "      <td>apartment</td>\n",
       "      <td>Belgrano</td>\n",
       "      <td>Capital Federal</td>\n",
       "      <td>-34.559873</td>\n",
       "      <td>-58.443362</td>\n",
       "      <td>138000.0</td>\n",
       "      <td>45.0</td>\n",
       "      <td>40.0</td>\n",
       "      <td>EXCELENTE MONOAMBIENTE A ESTRENAR AMPLIO SUPER...</td>\n",
       "      <td>JOSE HERNANDEZ 1400 MONOAMBIENTE  ESTRENAR CAT...</td>\n",
       "      <td>POINT (-58.44336 -34.55987)</td>\n",
       "      <td>0.010223</td>\n",
       "      <td>3066.666667</td>\n",
       "      <td>NaN</td>\n",
       "      <td>sin amenities</td>\n",
       "      <td>estandar</td>\n",
       "    </tr>\n",
       "    <tr>\n",
       "      <th>8</th>\n",
       "      <td>apartment</td>\n",
       "      <td>Belgrano</td>\n",
       "      <td>Capital Federal</td>\n",
       "      <td>-34.559873</td>\n",
       "      <td>-58.443362</td>\n",
       "      <td>195000.0</td>\n",
       "      <td>65.0</td>\n",
       "      <td>60.0</td>\n",
       "      <td>EXCELENTE DOS AMBIENTES  ESTRENAR AMPLIO SUPER...</td>\n",
       "      <td>JOSE HERNANDEZ   1400 DOS AMBIENTES ESTRENAR ,...</td>\n",
       "      <td>POINT (-58.44336 -34.55987)</td>\n",
       "      <td>0.010223</td>\n",
       "      <td>3000.000000</td>\n",
       "      <td>NaN</td>\n",
       "      <td>sin amenities</td>\n",
       "      <td>estandar</td>\n",
       "    </tr>\n",
       "    <tr>\n",
       "      <th>19</th>\n",
       "      <td>apartment</td>\n",
       "      <td>Palermo</td>\n",
       "      <td>Capital Federal</td>\n",
       "      <td>-34.580504</td>\n",
       "      <td>-58.405874</td>\n",
       "      <td>350000.0</td>\n",
       "      <td>104.0</td>\n",
       "      <td>96.0</td>\n",
       "      <td>Excelente semipiso al contra frente en Bulnes ...</td>\n",
       "      <td>Bulnes y Libertador: espectacular pulmón, con ...</td>\n",
       "      <td>POINT (-58.40587 -34.58050)</td>\n",
       "      <td>0.009443</td>\n",
       "      <td>3365.384615</td>\n",
       "      <td>NaN</td>\n",
       "      <td>sin amenities</td>\n",
       "      <td>estandar</td>\n",
       "    </tr>\n",
       "    <tr>\n",
       "      <th>21</th>\n",
       "      <td>apartment</td>\n",
       "      <td>Palermo</td>\n",
       "      <td>Capital Federal</td>\n",
       "      <td>-34.590926</td>\n",
       "      <td>-58.411665</td>\n",
       "      <td>270500.0</td>\n",
       "      <td>118.0</td>\n",
       "      <td>73.0</td>\n",
       "      <td>EXCELENTE ZONA, MULTIPLES MEDIOS DE TRANSPORTE...</td>\n",
       "      <td>Departamento de 4 ambientes en Venta en Palermo</td>\n",
       "      <td>POINT (-58.41167 -34.59093)</td>\n",
       "      <td>0.002714</td>\n",
       "      <td>2292.372881</td>\n",
       "      <td>NaN</td>\n",
       "      <td>sin amenities</td>\n",
       "      <td>estandar</td>\n",
       "    </tr>\n",
       "    <tr>\n",
       "      <th>...</th>\n",
       "      <td>...</td>\n",
       "      <td>...</td>\n",
       "      <td>...</td>\n",
       "      <td>...</td>\n",
       "      <td>...</td>\n",
       "      <td>...</td>\n",
       "      <td>...</td>\n",
       "      <td>...</td>\n",
       "      <td>...</td>\n",
       "      <td>...</td>\n",
       "      <td>...</td>\n",
       "      <td>...</td>\n",
       "      <td>...</td>\n",
       "      <td>...</td>\n",
       "      <td>...</td>\n",
       "      <td>...</td>\n",
       "    </tr>\n",
       "    <tr>\n",
       "      <th>121121</th>\n",
       "      <td>apartment</td>\n",
       "      <td>Barrio Norte</td>\n",
       "      <td>Capital Federal</td>\n",
       "      <td>-34.597132</td>\n",
       "      <td>-58.398943</td>\n",
       "      <td>59000.0</td>\n",
       "      <td>29.0</td>\n",
       "      <td>24.0</td>\n",
       "      <td>Monoambiente con renta hasta febrero 2018 $ 50...</td>\n",
       "      <td>Departamento - Barrio Norte</td>\n",
       "      <td>POINT (-58.39894 -34.59713)</td>\n",
       "      <td>0.002816</td>\n",
       "      <td>2034.482759</td>\n",
       "      <td>NaN</td>\n",
       "      <td>sin amenities</td>\n",
       "      <td>estandar</td>\n",
       "    </tr>\n",
       "    <tr>\n",
       "      <th>121131</th>\n",
       "      <td>apartment</td>\n",
       "      <td>Recoleta</td>\n",
       "      <td>Capital Federal</td>\n",
       "      <td>-34.590628</td>\n",
       "      <td>-58.397539</td>\n",
       "      <td>325000.0</td>\n",
       "      <td>113.0</td>\n",
       "      <td>113.0</td>\n",
       "      <td>Excelente semipiso al frente de 4 ambientes. E...</td>\n",
       "      <td>Venta departamento Recoleta, departamento 3 am...</td>\n",
       "      <td>POINT (-58.39754 -34.59063)</td>\n",
       "      <td>0.003183</td>\n",
       "      <td>2876.106195</td>\n",
       "      <td>NaN</td>\n",
       "      <td>sin amenities</td>\n",
       "      <td>estandar</td>\n",
       "    </tr>\n",
       "    <tr>\n",
       "      <th>121153</th>\n",
       "      <td>apartment</td>\n",
       "      <td>Barrio Norte</td>\n",
       "      <td>Capital Federal</td>\n",
       "      <td>-34.599214</td>\n",
       "      <td>-58.402519</td>\n",
       "      <td>165000.0</td>\n",
       "      <td>91.0</td>\n",
       "      <td>65.0</td>\n",
       "      <td>EXCELENTE DEPARTAMENTO CON TERRAZA PROPIA Y PA...</td>\n",
       "      <td>EXCELENTE DEPARTAMENTO DE 3 AMBIENTES CON TERR...</td>\n",
       "      <td>POINT (-58.40252 -34.59921)</td>\n",
       "      <td>0.001422</td>\n",
       "      <td>1813.186813</td>\n",
       "      <td>NaN</td>\n",
       "      <td>sin amenities</td>\n",
       "      <td>estandar</td>\n",
       "    </tr>\n",
       "    <tr>\n",
       "      <th>121158</th>\n",
       "      <td>apartment</td>\n",
       "      <td>Recoleta</td>\n",
       "      <td>Capital Federal</td>\n",
       "      <td>-34.587425</td>\n",
       "      <td>-58.397372</td>\n",
       "      <td>165000.0</td>\n",
       "      <td>44.0</td>\n",
       "      <td>39.0</td>\n",
       "      <td>Excelente Ubicación - Avenida Pueyrredon y Las...</td>\n",
       "      <td>Departamento - Recoleta</td>\n",
       "      <td>POINT (-58.39737 -34.58743)</td>\n",
       "      <td>0.000161</td>\n",
       "      <td>3750.000000</td>\n",
       "      <td>NaN</td>\n",
       "      <td>sin amenities</td>\n",
       "      <td>estandar</td>\n",
       "    </tr>\n",
       "    <tr>\n",
       "      <th>121217</th>\n",
       "      <td>apartment</td>\n",
       "      <td>Villa Urquiza</td>\n",
       "      <td>Capital Federal</td>\n",
       "      <td>-34.570639</td>\n",
       "      <td>-58.475596</td>\n",
       "      <td>131500.0</td>\n",
       "      <td>46.0</td>\n",
       "      <td>39.0</td>\n",
       "      <td>VENTA DEPARTAMENTO AMBIENTE DIVISIBLE A ESTREN...</td>\n",
       "      <td>VENTA DEPARTAMENTO AMBIENTE DIVISIBLE A ESTREN...</td>\n",
       "      <td>POINT (-58.47560 -34.57064)</td>\n",
       "      <td>0.008977</td>\n",
       "      <td>2858.695652</td>\n",
       "      <td>NaN</td>\n",
       "      <td>amenities</td>\n",
       "      <td>estandar</td>\n",
       "    </tr>\n",
       "  </tbody>\n",
       "</table>\n",
       "<p>12634 rows × 16 columns</p>\n",
       "</div>"
      ],
      "text/plain": [
       "       property_type     place_name       state_name        lat        lon  \\\n",
       "2          apartment      Mataderos  Capital Federal -34.652262 -58.522982   \n",
       "7          apartment       Belgrano  Capital Federal -34.559873 -58.443362   \n",
       "8          apartment       Belgrano  Capital Federal -34.559873 -58.443362   \n",
       "19         apartment        Palermo  Capital Federal -34.580504 -58.405874   \n",
       "21         apartment        Palermo  Capital Federal -34.590926 -58.411665   \n",
       "...              ...            ...              ...        ...        ...   \n",
       "121121     apartment   Barrio Norte  Capital Federal -34.597132 -58.398943   \n",
       "121131     apartment       Recoleta  Capital Federal -34.590628 -58.397539   \n",
       "121153     apartment   Barrio Norte  Capital Federal -34.599214 -58.402519   \n",
       "121158     apartment       Recoleta  Capital Federal -34.587425 -58.397372   \n",
       "121217     apartment  Villa Urquiza  Capital Federal -34.570639 -58.475596   \n",
       "\n",
       "        price_aprox_usd  surface_total_in_m2  surface_covered_in_m2  \\\n",
       "2               72000.0                 55.0                   55.0   \n",
       "7              138000.0                 45.0                   40.0   \n",
       "8              195000.0                 65.0                   60.0   \n",
       "19             350000.0                104.0                   96.0   \n",
       "21             270500.0                118.0                   73.0   \n",
       "...                 ...                  ...                    ...   \n",
       "121121          59000.0                 29.0                   24.0   \n",
       "121131         325000.0                113.0                  113.0   \n",
       "121153         165000.0                 91.0                   65.0   \n",
       "121158         165000.0                 44.0                   39.0   \n",
       "121217         131500.0                 46.0                   39.0   \n",
       "\n",
       "                                              description  \\\n",
       "2       2 AMBIENTES 3ER PISO LATERAL LIVING COMEDOR AM...   \n",
       "7       EXCELENTE MONOAMBIENTE A ESTRENAR AMPLIO SUPER...   \n",
       "8       EXCELENTE DOS AMBIENTES  ESTRENAR AMPLIO SUPER...   \n",
       "19      Excelente semipiso al contra frente en Bulnes ...   \n",
       "21      EXCELENTE ZONA, MULTIPLES MEDIOS DE TRANSPORTE...   \n",
       "...                                                   ...   \n",
       "121121  Monoambiente con renta hasta febrero 2018 $ 50...   \n",
       "121131  Excelente semipiso al frente de 4 ambientes. E...   \n",
       "121153  EXCELENTE DEPARTAMENTO CON TERRAZA PROPIA Y PA...   \n",
       "121158  Excelente Ubicación - Avenida Pueyrredon y Las...   \n",
       "121217  VENTA DEPARTAMENTO AMBIENTE DIVISIBLE A ESTREN...   \n",
       "\n",
       "                                                    title  \\\n",
       "2                2 AMB 3ER PISO CON ASCENSOR APTO CREDITO   \n",
       "7       JOSE HERNANDEZ 1400 MONOAMBIENTE  ESTRENAR CAT...   \n",
       "8       JOSE HERNANDEZ   1400 DOS AMBIENTES ESTRENAR ,...   \n",
       "19      Bulnes y Libertador: espectacular pulmón, con ...   \n",
       "21        Departamento de 4 ambientes en Venta en Palermo   \n",
       "...                                                   ...   \n",
       "121121                        Departamento - Barrio Norte   \n",
       "121131  Venta departamento Recoleta, departamento 3 am...   \n",
       "121153  EXCELENTE DEPARTAMENTO DE 3 AMBIENTES CON TERR...   \n",
       "121158                            Departamento - Recoleta   \n",
       "121217  VENTA DEPARTAMENTO AMBIENTE DIVISIBLE A ESTREN...   \n",
       "\n",
       "                           geometry  distancia_subte  \\\n",
       "2       POINT (-58.52298 -34.65226)         0.057533   \n",
       "7       POINT (-58.44336 -34.55987)         0.010223   \n",
       "8       POINT (-58.44336 -34.55987)         0.010223   \n",
       "19      POINT (-58.40587 -34.58050)         0.009443   \n",
       "21      POINT (-58.41167 -34.59093)         0.002714   \n",
       "...                             ...              ...   \n",
       "121121  POINT (-58.39894 -34.59713)         0.002816   \n",
       "121131  POINT (-58.39754 -34.59063)         0.003183   \n",
       "121153  POINT (-58.40252 -34.59921)         0.001422   \n",
       "121158  POINT (-58.39737 -34.58743)         0.000161   \n",
       "121217  POINT (-58.47560 -34.57064)         0.008977   \n",
       "\n",
       "        precio_m2_usd_por_m2_total Pozo      Amenities Categoria  \n",
       "2                      1309.090909  NaN  sin amenities  estandar  \n",
       "7                      3066.666667  NaN  sin amenities  estandar  \n",
       "8                      3000.000000  NaN  sin amenities  estandar  \n",
       "19                     3365.384615  NaN  sin amenities  estandar  \n",
       "21                     2292.372881  NaN  sin amenities  estandar  \n",
       "...                            ...  ...            ...       ...  \n",
       "121121                 2034.482759  NaN  sin amenities  estandar  \n",
       "121131                 2876.106195  NaN  sin amenities  estandar  \n",
       "121153                 1813.186813  NaN  sin amenities  estandar  \n",
       "121158                 3750.000000  NaN  sin amenities  estandar  \n",
       "121217                 2858.695652  NaN      amenities  estandar  \n",
       "\n",
       "[12634 rows x 16 columns]"
      ]
     },
     "execution_count": 81,
     "metadata": {},
     "output_type": "execute_result"
    }
   ],
   "source": [
    "data_CABA_deptos_limpios_sin_outliers_sin_pozo"
   ]
  },
  {
   "cell_type": "code",
   "execution_count": 82,
   "metadata": {},
   "outputs": [
    {
     "data": {
      "text/html": [
       "<div>\n",
       "<style scoped>\n",
       "    .dataframe tbody tr th:only-of-type {\n",
       "        vertical-align: middle;\n",
       "    }\n",
       "\n",
       "    .dataframe tbody tr th {\n",
       "        vertical-align: top;\n",
       "    }\n",
       "\n",
       "    .dataframe thead th {\n",
       "        text-align: right;\n",
       "    }\n",
       "</style>\n",
       "<table border=\"1\" class=\"dataframe\">\n",
       "  <thead>\n",
       "    <tr style=\"text-align: right;\">\n",
       "      <th></th>\n",
       "      <th>property_type</th>\n",
       "      <th>place_name</th>\n",
       "      <th>state_name</th>\n",
       "      <th>lat</th>\n",
       "      <th>lon</th>\n",
       "      <th>price_aprox_usd</th>\n",
       "      <th>surface_total_in_m2</th>\n",
       "      <th>surface_covered_in_m2</th>\n",
       "      <th>description</th>\n",
       "      <th>title</th>\n",
       "      <th>geometry</th>\n",
       "      <th>distancia_subte</th>\n",
       "      <th>precio_m2_usd_por_m2_total</th>\n",
       "      <th>Pozo</th>\n",
       "      <th>Categoria_categoria</th>\n",
       "      <th>Categoria_estandar</th>\n",
       "      <th>Amenities_amenities</th>\n",
       "      <th>Amenities_sin amenities</th>\n",
       "    </tr>\n",
       "  </thead>\n",
       "  <tbody>\n",
       "    <tr>\n",
       "      <th>2</th>\n",
       "      <td>apartment</td>\n",
       "      <td>Mataderos</td>\n",
       "      <td>Capital Federal</td>\n",
       "      <td>-34.652262</td>\n",
       "      <td>-58.522982</td>\n",
       "      <td>72000.0</td>\n",
       "      <td>55.0</td>\n",
       "      <td>55.0</td>\n",
       "      <td>2 AMBIENTES 3ER PISO LATERAL LIVING COMEDOR AM...</td>\n",
       "      <td>2 AMB 3ER PISO CON ASCENSOR APTO CREDITO</td>\n",
       "      <td>POINT (-58.52298 -34.65226)</td>\n",
       "      <td>0.057533</td>\n",
       "      <td>1309.090909</td>\n",
       "      <td>NaN</td>\n",
       "      <td>0</td>\n",
       "      <td>1</td>\n",
       "      <td>0</td>\n",
       "      <td>1</td>\n",
       "    </tr>\n",
       "    <tr>\n",
       "      <th>7</th>\n",
       "      <td>apartment</td>\n",
       "      <td>Belgrano</td>\n",
       "      <td>Capital Federal</td>\n",
       "      <td>-34.559873</td>\n",
       "      <td>-58.443362</td>\n",
       "      <td>138000.0</td>\n",
       "      <td>45.0</td>\n",
       "      <td>40.0</td>\n",
       "      <td>EXCELENTE MONOAMBIENTE A ESTRENAR AMPLIO SUPER...</td>\n",
       "      <td>JOSE HERNANDEZ 1400 MONOAMBIENTE  ESTRENAR CAT...</td>\n",
       "      <td>POINT (-58.44336 -34.55987)</td>\n",
       "      <td>0.010223</td>\n",
       "      <td>3066.666667</td>\n",
       "      <td>NaN</td>\n",
       "      <td>0</td>\n",
       "      <td>1</td>\n",
       "      <td>0</td>\n",
       "      <td>1</td>\n",
       "    </tr>\n",
       "    <tr>\n",
       "      <th>8</th>\n",
       "      <td>apartment</td>\n",
       "      <td>Belgrano</td>\n",
       "      <td>Capital Federal</td>\n",
       "      <td>-34.559873</td>\n",
       "      <td>-58.443362</td>\n",
       "      <td>195000.0</td>\n",
       "      <td>65.0</td>\n",
       "      <td>60.0</td>\n",
       "      <td>EXCELENTE DOS AMBIENTES  ESTRENAR AMPLIO SUPER...</td>\n",
       "      <td>JOSE HERNANDEZ   1400 DOS AMBIENTES ESTRENAR ,...</td>\n",
       "      <td>POINT (-58.44336 -34.55987)</td>\n",
       "      <td>0.010223</td>\n",
       "      <td>3000.000000</td>\n",
       "      <td>NaN</td>\n",
       "      <td>0</td>\n",
       "      <td>1</td>\n",
       "      <td>0</td>\n",
       "      <td>1</td>\n",
       "    </tr>\n",
       "    <tr>\n",
       "      <th>19</th>\n",
       "      <td>apartment</td>\n",
       "      <td>Palermo</td>\n",
       "      <td>Capital Federal</td>\n",
       "      <td>-34.580504</td>\n",
       "      <td>-58.405874</td>\n",
       "      <td>350000.0</td>\n",
       "      <td>104.0</td>\n",
       "      <td>96.0</td>\n",
       "      <td>Excelente semipiso al contra frente en Bulnes ...</td>\n",
       "      <td>Bulnes y Libertador: espectacular pulmón, con ...</td>\n",
       "      <td>POINT (-58.40587 -34.58050)</td>\n",
       "      <td>0.009443</td>\n",
       "      <td>3365.384615</td>\n",
       "      <td>NaN</td>\n",
       "      <td>0</td>\n",
       "      <td>1</td>\n",
       "      <td>0</td>\n",
       "      <td>1</td>\n",
       "    </tr>\n",
       "    <tr>\n",
       "      <th>21</th>\n",
       "      <td>apartment</td>\n",
       "      <td>Palermo</td>\n",
       "      <td>Capital Federal</td>\n",
       "      <td>-34.590926</td>\n",
       "      <td>-58.411665</td>\n",
       "      <td>270500.0</td>\n",
       "      <td>118.0</td>\n",
       "      <td>73.0</td>\n",
       "      <td>EXCELENTE ZONA, MULTIPLES MEDIOS DE TRANSPORTE...</td>\n",
       "      <td>Departamento de 4 ambientes en Venta en Palermo</td>\n",
       "      <td>POINT (-58.41167 -34.59093)</td>\n",
       "      <td>0.002714</td>\n",
       "      <td>2292.372881</td>\n",
       "      <td>NaN</td>\n",
       "      <td>0</td>\n",
       "      <td>1</td>\n",
       "      <td>0</td>\n",
       "      <td>1</td>\n",
       "    </tr>\n",
       "    <tr>\n",
       "      <th>...</th>\n",
       "      <td>...</td>\n",
       "      <td>...</td>\n",
       "      <td>...</td>\n",
       "      <td>...</td>\n",
       "      <td>...</td>\n",
       "      <td>...</td>\n",
       "      <td>...</td>\n",
       "      <td>...</td>\n",
       "      <td>...</td>\n",
       "      <td>...</td>\n",
       "      <td>...</td>\n",
       "      <td>...</td>\n",
       "      <td>...</td>\n",
       "      <td>...</td>\n",
       "      <td>...</td>\n",
       "      <td>...</td>\n",
       "      <td>...</td>\n",
       "      <td>...</td>\n",
       "    </tr>\n",
       "    <tr>\n",
       "      <th>121121</th>\n",
       "      <td>apartment</td>\n",
       "      <td>Barrio Norte</td>\n",
       "      <td>Capital Federal</td>\n",
       "      <td>-34.597132</td>\n",
       "      <td>-58.398943</td>\n",
       "      <td>59000.0</td>\n",
       "      <td>29.0</td>\n",
       "      <td>24.0</td>\n",
       "      <td>Monoambiente con renta hasta febrero 2018 $ 50...</td>\n",
       "      <td>Departamento - Barrio Norte</td>\n",
       "      <td>POINT (-58.39894 -34.59713)</td>\n",
       "      <td>0.002816</td>\n",
       "      <td>2034.482759</td>\n",
       "      <td>NaN</td>\n",
       "      <td>0</td>\n",
       "      <td>1</td>\n",
       "      <td>0</td>\n",
       "      <td>1</td>\n",
       "    </tr>\n",
       "    <tr>\n",
       "      <th>121131</th>\n",
       "      <td>apartment</td>\n",
       "      <td>Recoleta</td>\n",
       "      <td>Capital Federal</td>\n",
       "      <td>-34.590628</td>\n",
       "      <td>-58.397539</td>\n",
       "      <td>325000.0</td>\n",
       "      <td>113.0</td>\n",
       "      <td>113.0</td>\n",
       "      <td>Excelente semipiso al frente de 4 ambientes. E...</td>\n",
       "      <td>Venta departamento Recoleta, departamento 3 am...</td>\n",
       "      <td>POINT (-58.39754 -34.59063)</td>\n",
       "      <td>0.003183</td>\n",
       "      <td>2876.106195</td>\n",
       "      <td>NaN</td>\n",
       "      <td>0</td>\n",
       "      <td>1</td>\n",
       "      <td>0</td>\n",
       "      <td>1</td>\n",
       "    </tr>\n",
       "    <tr>\n",
       "      <th>121153</th>\n",
       "      <td>apartment</td>\n",
       "      <td>Barrio Norte</td>\n",
       "      <td>Capital Federal</td>\n",
       "      <td>-34.599214</td>\n",
       "      <td>-58.402519</td>\n",
       "      <td>165000.0</td>\n",
       "      <td>91.0</td>\n",
       "      <td>65.0</td>\n",
       "      <td>EXCELENTE DEPARTAMENTO CON TERRAZA PROPIA Y PA...</td>\n",
       "      <td>EXCELENTE DEPARTAMENTO DE 3 AMBIENTES CON TERR...</td>\n",
       "      <td>POINT (-58.40252 -34.59921)</td>\n",
       "      <td>0.001422</td>\n",
       "      <td>1813.186813</td>\n",
       "      <td>NaN</td>\n",
       "      <td>0</td>\n",
       "      <td>1</td>\n",
       "      <td>0</td>\n",
       "      <td>1</td>\n",
       "    </tr>\n",
       "    <tr>\n",
       "      <th>121158</th>\n",
       "      <td>apartment</td>\n",
       "      <td>Recoleta</td>\n",
       "      <td>Capital Federal</td>\n",
       "      <td>-34.587425</td>\n",
       "      <td>-58.397372</td>\n",
       "      <td>165000.0</td>\n",
       "      <td>44.0</td>\n",
       "      <td>39.0</td>\n",
       "      <td>Excelente Ubicación - Avenida Pueyrredon y Las...</td>\n",
       "      <td>Departamento - Recoleta</td>\n",
       "      <td>POINT (-58.39737 -34.58743)</td>\n",
       "      <td>0.000161</td>\n",
       "      <td>3750.000000</td>\n",
       "      <td>NaN</td>\n",
       "      <td>0</td>\n",
       "      <td>1</td>\n",
       "      <td>0</td>\n",
       "      <td>1</td>\n",
       "    </tr>\n",
       "    <tr>\n",
       "      <th>121217</th>\n",
       "      <td>apartment</td>\n",
       "      <td>Villa Urquiza</td>\n",
       "      <td>Capital Federal</td>\n",
       "      <td>-34.570639</td>\n",
       "      <td>-58.475596</td>\n",
       "      <td>131500.0</td>\n",
       "      <td>46.0</td>\n",
       "      <td>39.0</td>\n",
       "      <td>VENTA DEPARTAMENTO AMBIENTE DIVISIBLE A ESTREN...</td>\n",
       "      <td>VENTA DEPARTAMENTO AMBIENTE DIVISIBLE A ESTREN...</td>\n",
       "      <td>POINT (-58.47560 -34.57064)</td>\n",
       "      <td>0.008977</td>\n",
       "      <td>2858.695652</td>\n",
       "      <td>NaN</td>\n",
       "      <td>0</td>\n",
       "      <td>1</td>\n",
       "      <td>1</td>\n",
       "      <td>0</td>\n",
       "    </tr>\n",
       "  </tbody>\n",
       "</table>\n",
       "<p>12634 rows × 18 columns</p>\n",
       "</div>"
      ],
      "text/plain": [
       "       property_type     place_name       state_name        lat        lon  \\\n",
       "2          apartment      Mataderos  Capital Federal -34.652262 -58.522982   \n",
       "7          apartment       Belgrano  Capital Federal -34.559873 -58.443362   \n",
       "8          apartment       Belgrano  Capital Federal -34.559873 -58.443362   \n",
       "19         apartment        Palermo  Capital Federal -34.580504 -58.405874   \n",
       "21         apartment        Palermo  Capital Federal -34.590926 -58.411665   \n",
       "...              ...            ...              ...        ...        ...   \n",
       "121121     apartment   Barrio Norte  Capital Federal -34.597132 -58.398943   \n",
       "121131     apartment       Recoleta  Capital Federal -34.590628 -58.397539   \n",
       "121153     apartment   Barrio Norte  Capital Federal -34.599214 -58.402519   \n",
       "121158     apartment       Recoleta  Capital Federal -34.587425 -58.397372   \n",
       "121217     apartment  Villa Urquiza  Capital Federal -34.570639 -58.475596   \n",
       "\n",
       "        price_aprox_usd  surface_total_in_m2  surface_covered_in_m2  \\\n",
       "2               72000.0                 55.0                   55.0   \n",
       "7              138000.0                 45.0                   40.0   \n",
       "8              195000.0                 65.0                   60.0   \n",
       "19             350000.0                104.0                   96.0   \n",
       "21             270500.0                118.0                   73.0   \n",
       "...                 ...                  ...                    ...   \n",
       "121121          59000.0                 29.0                   24.0   \n",
       "121131         325000.0                113.0                  113.0   \n",
       "121153         165000.0                 91.0                   65.0   \n",
       "121158         165000.0                 44.0                   39.0   \n",
       "121217         131500.0                 46.0                   39.0   \n",
       "\n",
       "                                              description  \\\n",
       "2       2 AMBIENTES 3ER PISO LATERAL LIVING COMEDOR AM...   \n",
       "7       EXCELENTE MONOAMBIENTE A ESTRENAR AMPLIO SUPER...   \n",
       "8       EXCELENTE DOS AMBIENTES  ESTRENAR AMPLIO SUPER...   \n",
       "19      Excelente semipiso al contra frente en Bulnes ...   \n",
       "21      EXCELENTE ZONA, MULTIPLES MEDIOS DE TRANSPORTE...   \n",
       "...                                                   ...   \n",
       "121121  Monoambiente con renta hasta febrero 2018 $ 50...   \n",
       "121131  Excelente semipiso al frente de 4 ambientes. E...   \n",
       "121153  EXCELENTE DEPARTAMENTO CON TERRAZA PROPIA Y PA...   \n",
       "121158  Excelente Ubicación - Avenida Pueyrredon y Las...   \n",
       "121217  VENTA DEPARTAMENTO AMBIENTE DIVISIBLE A ESTREN...   \n",
       "\n",
       "                                                    title  \\\n",
       "2                2 AMB 3ER PISO CON ASCENSOR APTO CREDITO   \n",
       "7       JOSE HERNANDEZ 1400 MONOAMBIENTE  ESTRENAR CAT...   \n",
       "8       JOSE HERNANDEZ   1400 DOS AMBIENTES ESTRENAR ,...   \n",
       "19      Bulnes y Libertador: espectacular pulmón, con ...   \n",
       "21        Departamento de 4 ambientes en Venta en Palermo   \n",
       "...                                                   ...   \n",
       "121121                        Departamento - Barrio Norte   \n",
       "121131  Venta departamento Recoleta, departamento 3 am...   \n",
       "121153  EXCELENTE DEPARTAMENTO DE 3 AMBIENTES CON TERR...   \n",
       "121158                            Departamento - Recoleta   \n",
       "121217  VENTA DEPARTAMENTO AMBIENTE DIVISIBLE A ESTREN...   \n",
       "\n",
       "                           geometry  distancia_subte  \\\n",
       "2       POINT (-58.52298 -34.65226)         0.057533   \n",
       "7       POINT (-58.44336 -34.55987)         0.010223   \n",
       "8       POINT (-58.44336 -34.55987)         0.010223   \n",
       "19      POINT (-58.40587 -34.58050)         0.009443   \n",
       "21      POINT (-58.41167 -34.59093)         0.002714   \n",
       "...                             ...              ...   \n",
       "121121  POINT (-58.39894 -34.59713)         0.002816   \n",
       "121131  POINT (-58.39754 -34.59063)         0.003183   \n",
       "121153  POINT (-58.40252 -34.59921)         0.001422   \n",
       "121158  POINT (-58.39737 -34.58743)         0.000161   \n",
       "121217  POINT (-58.47560 -34.57064)         0.008977   \n",
       "\n",
       "        precio_m2_usd_por_m2_total Pozo  Categoria_categoria  \\\n",
       "2                      1309.090909  NaN                    0   \n",
       "7                      3066.666667  NaN                    0   \n",
       "8                      3000.000000  NaN                    0   \n",
       "19                     3365.384615  NaN                    0   \n",
       "21                     2292.372881  NaN                    0   \n",
       "...                            ...  ...                  ...   \n",
       "121121                 2034.482759  NaN                    0   \n",
       "121131                 2876.106195  NaN                    0   \n",
       "121153                 1813.186813  NaN                    0   \n",
       "121158                 3750.000000  NaN                    0   \n",
       "121217                 2858.695652  NaN                    0   \n",
       "\n",
       "        Categoria_estandar  Amenities_amenities  Amenities_sin amenities  \n",
       "2                        1                    0                        1  \n",
       "7                        1                    0                        1  \n",
       "8                        1                    0                        1  \n",
       "19                       1                    0                        1  \n",
       "21                       1                    0                        1  \n",
       "...                    ...                  ...                      ...  \n",
       "121121                   1                    0                        1  \n",
       "121131                   1                    0                        1  \n",
       "121153                   1                    0                        1  \n",
       "121158                   1                    0                        1  \n",
       "121217                   1                    1                        0  \n",
       "\n",
       "[12634 rows x 18 columns]"
      ]
     },
     "execution_count": 82,
     "metadata": {},
     "output_type": "execute_result"
    }
   ],
   "source": [
    "dummies_ambas"
   ]
  },
  {
   "cell_type": "code",
   "execution_count": 83,
   "metadata": {},
   "outputs": [
    {
     "data": {
      "text/html": [
       "<div>\n",
       "<style scoped>\n",
       "    .dataframe tbody tr th:only-of-type {\n",
       "        vertical-align: middle;\n",
       "    }\n",
       "\n",
       "    .dataframe tbody tr th {\n",
       "        vertical-align: top;\n",
       "    }\n",
       "\n",
       "    .dataframe thead th {\n",
       "        text-align: right;\n",
       "    }\n",
       "</style>\n",
       "<table border=\"1\" class=\"dataframe\">\n",
       "  <thead>\n",
       "    <tr style=\"text-align: right;\">\n",
       "      <th></th>\n",
       "      <th>property_type</th>\n",
       "      <th>place_name</th>\n",
       "      <th>state_name</th>\n",
       "      <th>lat</th>\n",
       "      <th>lon</th>\n",
       "      <th>price_aprox_usd</th>\n",
       "      <th>surface_total_in_m2</th>\n",
       "      <th>surface_covered_in_m2</th>\n",
       "      <th>description</th>\n",
       "      <th>title</th>\n",
       "      <th>geometry</th>\n",
       "      <th>distancia_subte</th>\n",
       "      <th>precio_m2_usd_por_m2_total</th>\n",
       "      <th>Pozo</th>\n",
       "      <th>Categoria_categoria</th>\n",
       "      <th>Amenities_amenities</th>\n",
       "    </tr>\n",
       "  </thead>\n",
       "  <tbody>\n",
       "    <tr>\n",
       "      <th>2</th>\n",
       "      <td>apartment</td>\n",
       "      <td>Mataderos</td>\n",
       "      <td>Capital Federal</td>\n",
       "      <td>-34.652262</td>\n",
       "      <td>-58.522982</td>\n",
       "      <td>72000.0</td>\n",
       "      <td>55.0</td>\n",
       "      <td>55.0</td>\n",
       "      <td>2 AMBIENTES 3ER PISO LATERAL LIVING COMEDOR AM...</td>\n",
       "      <td>2 AMB 3ER PISO CON ASCENSOR APTO CREDITO</td>\n",
       "      <td>POINT (-58.52298 -34.65226)</td>\n",
       "      <td>0.057533</td>\n",
       "      <td>1309.090909</td>\n",
       "      <td>NaN</td>\n",
       "      <td>0</td>\n",
       "      <td>0</td>\n",
       "    </tr>\n",
       "    <tr>\n",
       "      <th>7</th>\n",
       "      <td>apartment</td>\n",
       "      <td>Belgrano</td>\n",
       "      <td>Capital Federal</td>\n",
       "      <td>-34.559873</td>\n",
       "      <td>-58.443362</td>\n",
       "      <td>138000.0</td>\n",
       "      <td>45.0</td>\n",
       "      <td>40.0</td>\n",
       "      <td>EXCELENTE MONOAMBIENTE A ESTRENAR AMPLIO SUPER...</td>\n",
       "      <td>JOSE HERNANDEZ 1400 MONOAMBIENTE  ESTRENAR CAT...</td>\n",
       "      <td>POINT (-58.44336 -34.55987)</td>\n",
       "      <td>0.010223</td>\n",
       "      <td>3066.666667</td>\n",
       "      <td>NaN</td>\n",
       "      <td>0</td>\n",
       "      <td>0</td>\n",
       "    </tr>\n",
       "    <tr>\n",
       "      <th>8</th>\n",
       "      <td>apartment</td>\n",
       "      <td>Belgrano</td>\n",
       "      <td>Capital Federal</td>\n",
       "      <td>-34.559873</td>\n",
       "      <td>-58.443362</td>\n",
       "      <td>195000.0</td>\n",
       "      <td>65.0</td>\n",
       "      <td>60.0</td>\n",
       "      <td>EXCELENTE DOS AMBIENTES  ESTRENAR AMPLIO SUPER...</td>\n",
       "      <td>JOSE HERNANDEZ   1400 DOS AMBIENTES ESTRENAR ,...</td>\n",
       "      <td>POINT (-58.44336 -34.55987)</td>\n",
       "      <td>0.010223</td>\n",
       "      <td>3000.000000</td>\n",
       "      <td>NaN</td>\n",
       "      <td>0</td>\n",
       "      <td>0</td>\n",
       "    </tr>\n",
       "    <tr>\n",
       "      <th>19</th>\n",
       "      <td>apartment</td>\n",
       "      <td>Palermo</td>\n",
       "      <td>Capital Federal</td>\n",
       "      <td>-34.580504</td>\n",
       "      <td>-58.405874</td>\n",
       "      <td>350000.0</td>\n",
       "      <td>104.0</td>\n",
       "      <td>96.0</td>\n",
       "      <td>Excelente semipiso al contra frente en Bulnes ...</td>\n",
       "      <td>Bulnes y Libertador: espectacular pulmón, con ...</td>\n",
       "      <td>POINT (-58.40587 -34.58050)</td>\n",
       "      <td>0.009443</td>\n",
       "      <td>3365.384615</td>\n",
       "      <td>NaN</td>\n",
       "      <td>0</td>\n",
       "      <td>0</td>\n",
       "    </tr>\n",
       "    <tr>\n",
       "      <th>21</th>\n",
       "      <td>apartment</td>\n",
       "      <td>Palermo</td>\n",
       "      <td>Capital Federal</td>\n",
       "      <td>-34.590926</td>\n",
       "      <td>-58.411665</td>\n",
       "      <td>270500.0</td>\n",
       "      <td>118.0</td>\n",
       "      <td>73.0</td>\n",
       "      <td>EXCELENTE ZONA, MULTIPLES MEDIOS DE TRANSPORTE...</td>\n",
       "      <td>Departamento de 4 ambientes en Venta en Palermo</td>\n",
       "      <td>POINT (-58.41167 -34.59093)</td>\n",
       "      <td>0.002714</td>\n",
       "      <td>2292.372881</td>\n",
       "      <td>NaN</td>\n",
       "      <td>0</td>\n",
       "      <td>0</td>\n",
       "    </tr>\n",
       "    <tr>\n",
       "      <th>...</th>\n",
       "      <td>...</td>\n",
       "      <td>...</td>\n",
       "      <td>...</td>\n",
       "      <td>...</td>\n",
       "      <td>...</td>\n",
       "      <td>...</td>\n",
       "      <td>...</td>\n",
       "      <td>...</td>\n",
       "      <td>...</td>\n",
       "      <td>...</td>\n",
       "      <td>...</td>\n",
       "      <td>...</td>\n",
       "      <td>...</td>\n",
       "      <td>...</td>\n",
       "      <td>...</td>\n",
       "      <td>...</td>\n",
       "    </tr>\n",
       "    <tr>\n",
       "      <th>121121</th>\n",
       "      <td>apartment</td>\n",
       "      <td>Barrio Norte</td>\n",
       "      <td>Capital Federal</td>\n",
       "      <td>-34.597132</td>\n",
       "      <td>-58.398943</td>\n",
       "      <td>59000.0</td>\n",
       "      <td>29.0</td>\n",
       "      <td>24.0</td>\n",
       "      <td>Monoambiente con renta hasta febrero 2018 $ 50...</td>\n",
       "      <td>Departamento - Barrio Norte</td>\n",
       "      <td>POINT (-58.39894 -34.59713)</td>\n",
       "      <td>0.002816</td>\n",
       "      <td>2034.482759</td>\n",
       "      <td>NaN</td>\n",
       "      <td>0</td>\n",
       "      <td>0</td>\n",
       "    </tr>\n",
       "    <tr>\n",
       "      <th>121131</th>\n",
       "      <td>apartment</td>\n",
       "      <td>Recoleta</td>\n",
       "      <td>Capital Federal</td>\n",
       "      <td>-34.590628</td>\n",
       "      <td>-58.397539</td>\n",
       "      <td>325000.0</td>\n",
       "      <td>113.0</td>\n",
       "      <td>113.0</td>\n",
       "      <td>Excelente semipiso al frente de 4 ambientes. E...</td>\n",
       "      <td>Venta departamento Recoleta, departamento 3 am...</td>\n",
       "      <td>POINT (-58.39754 -34.59063)</td>\n",
       "      <td>0.003183</td>\n",
       "      <td>2876.106195</td>\n",
       "      <td>NaN</td>\n",
       "      <td>0</td>\n",
       "      <td>0</td>\n",
       "    </tr>\n",
       "    <tr>\n",
       "      <th>121153</th>\n",
       "      <td>apartment</td>\n",
       "      <td>Barrio Norte</td>\n",
       "      <td>Capital Federal</td>\n",
       "      <td>-34.599214</td>\n",
       "      <td>-58.402519</td>\n",
       "      <td>165000.0</td>\n",
       "      <td>91.0</td>\n",
       "      <td>65.0</td>\n",
       "      <td>EXCELENTE DEPARTAMENTO CON TERRAZA PROPIA Y PA...</td>\n",
       "      <td>EXCELENTE DEPARTAMENTO DE 3 AMBIENTES CON TERR...</td>\n",
       "      <td>POINT (-58.40252 -34.59921)</td>\n",
       "      <td>0.001422</td>\n",
       "      <td>1813.186813</td>\n",
       "      <td>NaN</td>\n",
       "      <td>0</td>\n",
       "      <td>0</td>\n",
       "    </tr>\n",
       "    <tr>\n",
       "      <th>121158</th>\n",
       "      <td>apartment</td>\n",
       "      <td>Recoleta</td>\n",
       "      <td>Capital Federal</td>\n",
       "      <td>-34.587425</td>\n",
       "      <td>-58.397372</td>\n",
       "      <td>165000.0</td>\n",
       "      <td>44.0</td>\n",
       "      <td>39.0</td>\n",
       "      <td>Excelente Ubicación - Avenida Pueyrredon y Las...</td>\n",
       "      <td>Departamento - Recoleta</td>\n",
       "      <td>POINT (-58.39737 -34.58743)</td>\n",
       "      <td>0.000161</td>\n",
       "      <td>3750.000000</td>\n",
       "      <td>NaN</td>\n",
       "      <td>0</td>\n",
       "      <td>0</td>\n",
       "    </tr>\n",
       "    <tr>\n",
       "      <th>121217</th>\n",
       "      <td>apartment</td>\n",
       "      <td>Villa Urquiza</td>\n",
       "      <td>Capital Federal</td>\n",
       "      <td>-34.570639</td>\n",
       "      <td>-58.475596</td>\n",
       "      <td>131500.0</td>\n",
       "      <td>46.0</td>\n",
       "      <td>39.0</td>\n",
       "      <td>VENTA DEPARTAMENTO AMBIENTE DIVISIBLE A ESTREN...</td>\n",
       "      <td>VENTA DEPARTAMENTO AMBIENTE DIVISIBLE A ESTREN...</td>\n",
       "      <td>POINT (-58.47560 -34.57064)</td>\n",
       "      <td>0.008977</td>\n",
       "      <td>2858.695652</td>\n",
       "      <td>NaN</td>\n",
       "      <td>0</td>\n",
       "      <td>1</td>\n",
       "    </tr>\n",
       "  </tbody>\n",
       "</table>\n",
       "<p>12634 rows × 16 columns</p>\n",
       "</div>"
      ],
      "text/plain": [
       "       property_type     place_name       state_name        lat        lon  \\\n",
       "2          apartment      Mataderos  Capital Federal -34.652262 -58.522982   \n",
       "7          apartment       Belgrano  Capital Federal -34.559873 -58.443362   \n",
       "8          apartment       Belgrano  Capital Federal -34.559873 -58.443362   \n",
       "19         apartment        Palermo  Capital Federal -34.580504 -58.405874   \n",
       "21         apartment        Palermo  Capital Federal -34.590926 -58.411665   \n",
       "...              ...            ...              ...        ...        ...   \n",
       "121121     apartment   Barrio Norte  Capital Federal -34.597132 -58.398943   \n",
       "121131     apartment       Recoleta  Capital Federal -34.590628 -58.397539   \n",
       "121153     apartment   Barrio Norte  Capital Federal -34.599214 -58.402519   \n",
       "121158     apartment       Recoleta  Capital Federal -34.587425 -58.397372   \n",
       "121217     apartment  Villa Urquiza  Capital Federal -34.570639 -58.475596   \n",
       "\n",
       "        price_aprox_usd  surface_total_in_m2  surface_covered_in_m2  \\\n",
       "2               72000.0                 55.0                   55.0   \n",
       "7              138000.0                 45.0                   40.0   \n",
       "8              195000.0                 65.0                   60.0   \n",
       "19             350000.0                104.0                   96.0   \n",
       "21             270500.0                118.0                   73.0   \n",
       "...                 ...                  ...                    ...   \n",
       "121121          59000.0                 29.0                   24.0   \n",
       "121131         325000.0                113.0                  113.0   \n",
       "121153         165000.0                 91.0                   65.0   \n",
       "121158         165000.0                 44.0                   39.0   \n",
       "121217         131500.0                 46.0                   39.0   \n",
       "\n",
       "                                              description  \\\n",
       "2       2 AMBIENTES 3ER PISO LATERAL LIVING COMEDOR AM...   \n",
       "7       EXCELENTE MONOAMBIENTE A ESTRENAR AMPLIO SUPER...   \n",
       "8       EXCELENTE DOS AMBIENTES  ESTRENAR AMPLIO SUPER...   \n",
       "19      Excelente semipiso al contra frente en Bulnes ...   \n",
       "21      EXCELENTE ZONA, MULTIPLES MEDIOS DE TRANSPORTE...   \n",
       "...                                                   ...   \n",
       "121121  Monoambiente con renta hasta febrero 2018 $ 50...   \n",
       "121131  Excelente semipiso al frente de 4 ambientes. E...   \n",
       "121153  EXCELENTE DEPARTAMENTO CON TERRAZA PROPIA Y PA...   \n",
       "121158  Excelente Ubicación - Avenida Pueyrredon y Las...   \n",
       "121217  VENTA DEPARTAMENTO AMBIENTE DIVISIBLE A ESTREN...   \n",
       "\n",
       "                                                    title  \\\n",
       "2                2 AMB 3ER PISO CON ASCENSOR APTO CREDITO   \n",
       "7       JOSE HERNANDEZ 1400 MONOAMBIENTE  ESTRENAR CAT...   \n",
       "8       JOSE HERNANDEZ   1400 DOS AMBIENTES ESTRENAR ,...   \n",
       "19      Bulnes y Libertador: espectacular pulmón, con ...   \n",
       "21        Departamento de 4 ambientes en Venta en Palermo   \n",
       "...                                                   ...   \n",
       "121121                        Departamento - Barrio Norte   \n",
       "121131  Venta departamento Recoleta, departamento 3 am...   \n",
       "121153  EXCELENTE DEPARTAMENTO DE 3 AMBIENTES CON TERR...   \n",
       "121158                            Departamento - Recoleta   \n",
       "121217  VENTA DEPARTAMENTO AMBIENTE DIVISIBLE A ESTREN...   \n",
       "\n",
       "                           geometry  distancia_subte  \\\n",
       "2       POINT (-58.52298 -34.65226)         0.057533   \n",
       "7       POINT (-58.44336 -34.55987)         0.010223   \n",
       "8       POINT (-58.44336 -34.55987)         0.010223   \n",
       "19      POINT (-58.40587 -34.58050)         0.009443   \n",
       "21      POINT (-58.41167 -34.59093)         0.002714   \n",
       "...                             ...              ...   \n",
       "121121  POINT (-58.39894 -34.59713)         0.002816   \n",
       "121131  POINT (-58.39754 -34.59063)         0.003183   \n",
       "121153  POINT (-58.40252 -34.59921)         0.001422   \n",
       "121158  POINT (-58.39737 -34.58743)         0.000161   \n",
       "121217  POINT (-58.47560 -34.57064)         0.008977   \n",
       "\n",
       "        precio_m2_usd_por_m2_total Pozo  Categoria_categoria  \\\n",
       "2                      1309.090909  NaN                    0   \n",
       "7                      3066.666667  NaN                    0   \n",
       "8                      3000.000000  NaN                    0   \n",
       "19                     3365.384615  NaN                    0   \n",
       "21                     2292.372881  NaN                    0   \n",
       "...                            ...  ...                  ...   \n",
       "121121                 2034.482759  NaN                    0   \n",
       "121131                 2876.106195  NaN                    0   \n",
       "121153                 1813.186813  NaN                    0   \n",
       "121158                 3750.000000  NaN                    0   \n",
       "121217                 2858.695652  NaN                    0   \n",
       "\n",
       "        Amenities_amenities  \n",
       "2                         0  \n",
       "7                         0  \n",
       "8                         0  \n",
       "19                        0  \n",
       "21                        0  \n",
       "...                     ...  \n",
       "121121                    0  \n",
       "121131                    0  \n",
       "121153                    0  \n",
       "121158                    0  \n",
       "121217                    1  \n",
       "\n",
       "[12634 rows x 16 columns]"
      ]
     },
     "execution_count": 83,
     "metadata": {},
     "output_type": "execute_result"
    }
   ],
   "source": [
    "dummies_ambas.drop([\"Amenities_sin amenities\",\"Categoria_estandar\"],axis=1)"
   ]
  },
  {
   "cell_type": "code",
   "execution_count": 84,
   "metadata": {},
   "outputs": [
    {
     "data": {
      "text/plain": [
       "Index(['property_type', 'place_name', 'state_name', 'lat', 'lon',\n",
       "       'price_aprox_usd', 'surface_total_in_m2', 'surface_covered_in_m2',\n",
       "       'description', 'title', 'geometry', 'distancia_subte',\n",
       "       'precio_m2_usd_por_m2_total', 'Pozo', 'Categoria_categoria',\n",
       "       'Categoria_estandar', 'Amenities_amenities', 'Amenities_sin amenities'],\n",
       "      dtype='object')"
      ]
     },
     "execution_count": 84,
     "metadata": {},
     "output_type": "execute_result"
    }
   ],
   "source": [
    "dummies_ambas.columns"
   ]
  },
  {
   "cell_type": "code",
   "execution_count": 86,
   "metadata": {},
   "outputs": [],
   "source": [
    "data_final=dummies_ambas.drop([ 'Amenities_sin amenities','Categoria_estandar','property_type','state_name','description', 'title', 'geometry', 'Pozo'],axis=1)"
   ]
  },
  {
   "cell_type": "code",
   "execution_count": 87,
   "metadata": {},
   "outputs": [
    {
     "data": {
      "text/plain": [
       "Index(['place_name', 'lat', 'lon', 'price_aprox_usd', 'surface_total_in_m2',\n",
       "       'surface_covered_in_m2', 'distancia_subte',\n",
       "       'precio_m2_usd_por_m2_total', 'Categoria_categoria',\n",
       "       'Amenities_amenities'],\n",
       "      dtype='object')"
      ]
     },
     "execution_count": 87,
     "metadata": {},
     "output_type": "execute_result"
    }
   ],
   "source": [
    "data_final.columns"
   ]
  },
  {
   "cell_type": "code",
   "execution_count": 88,
   "metadata": {},
   "outputs": [
    {
     "data": {
      "text/plain": [
       "12634"
      ]
     },
     "execution_count": 88,
     "metadata": {},
     "output_type": "execute_result"
    }
   ],
   "source": [
    "data_final.shape[0]"
   ]
  },
  {
   "cell_type": "code",
   "execution_count": 89,
   "metadata": {},
   "outputs": [
    {
     "data": {
      "text/plain": [
       "place_name                    0\n",
       "lat                           0\n",
       "lon                           0\n",
       "price_aprox_usd               0\n",
       "surface_total_in_m2           0\n",
       "surface_covered_in_m2         0\n",
       "distancia_subte               0\n",
       "precio_m2_usd_por_m2_total    0\n",
       "Categoria_categoria           0\n",
       "Amenities_amenities           0\n",
       "dtype: int64"
      ]
     },
     "execution_count": 89,
     "metadata": {},
     "output_type": "execute_result"
    }
   ],
   "source": [
    "data_final.isnull().sum()"
   ]
  },
  {
   "cell_type": "code",
   "execution_count": 94,
   "metadata": {},
   "outputs": [
    {
     "data": {
      "text/plain": [
       "Palermo          1179\n",
       "Caballito        1153\n",
       "Belgrano         1125\n",
       "Recoleta          867\n",
       "Barrio Norte      662\n",
       "                 ... \n",
       "Pompeya             7\n",
       "Palermo Viejo       5\n",
       "Villa Real          4\n",
       "Villa Soldati       3\n",
       "Catalinas           2\n",
       "Name: place_name, Length: 61, dtype: int64"
      ]
     },
     "execution_count": 94,
     "metadata": {},
     "output_type": "execute_result"
    }
   ],
   "source": [
    "data_final.place_name.value_counts()"
   ]
  },
  {
   "cell_type": "markdown",
   "metadata": {},
   "source": [
    "ATENTI: Si vamos a usar todo Cap. Fed. ver outliers de precios en Balvanera y Villa Urquiza."
   ]
  },
  {
   "cell_type": "code",
   "execution_count": 67,
   "metadata": {},
   "outputs": [],
   "source": [
    "#auxData5 = data_CABA_deptos_limpio['description']\n",
    "#auxData5 = auxData5.str.upper()\n",
    "#auxData5 = auxData5.str.replace('.','', regex=True)\n",
    "#auxData5.fillna('', inplace = True)\n",
    "#auxData5.head()"
   ]
  },
  {
   "cell_type": "code",
   "execution_count": 68,
   "metadata": {},
   "outputs": [],
   "source": [
    "#auxData6 = auxData5.str.extract('(\\d+)\\s?(M2|m2|)')\n",
    "#auxData6.columns=['M2', 'sup']\n",
    "#auxData6.head"
   ]
  },
  {
   "cell_type": "code",
   "execution_count": 69,
   "metadata": {},
   "outputs": [],
   "source": [
    "#auxData6.sup = pd.to_numeric(auxData6['sup'])\n"
   ]
  },
  {
   "cell_type": "code",
   "execution_count": 70,
   "metadata": {},
   "outputs": [],
   "source": [
    "#data_CABA_deptos_limpio['surface_total_in_m2'] = data_CABA_deptos_limpio['surface_total_in_m2'].fillna(auxData6['sup'])"
   ]
  },
  {
   "cell_type": "code",
   "execution_count": 71,
   "metadata": {},
   "outputs": [],
   "source": [
    "#data_CABA_deptos_limpio.isnull().sum()"
   ]
  }
 ],
 "metadata": {
  "kernelspec": {
   "display_name": "Python 3.7.13 ('dhdsblend2021_clase10')",
   "language": "python",
   "name": "python3"
  },
  "language_info": {
   "codemirror_mode": {
    "name": "ipython",
    "version": 3
   },
   "file_extension": ".py",
   "mimetype": "text/x-python",
   "name": "python",
   "nbconvert_exporter": "python",
   "pygments_lexer": "ipython3",
   "version": "3.7.13"
  },
  "orig_nbformat": 4,
  "vscode": {
   "interpreter": {
    "hash": "78729d1d0eea9a057efb75bb88a6e0cdaff0b17aec2e0c025f022965ea5a8972"
   }
  }
 },
 "nbformat": 4,
 "nbformat_minor": 2
}
